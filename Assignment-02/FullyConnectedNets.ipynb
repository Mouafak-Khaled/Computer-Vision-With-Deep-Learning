{
 "cells": [
  {
   "cell_type": "markdown",
   "metadata": {
    "tags": [
     "pdf-title"
    ]
   },
   "source": [
    "# Fully-Connected Neural Nets\n",
    "In the previous homework you implemented a fully-connected two-layer neural network on CIFAR-10. The implementation was simple but not very modular since the loss and gradient were computed in a single monolithic function. This is manageable for a simple two-layer network, but would become impractical as we move to bigger models. Ideally we want to build networks using a more modular design so that we can implement different layer types in isolation and then snap them together into models with different architectures."
   ]
  },
  {
   "cell_type": "markdown",
   "metadata": {
    "tags": [
     "pdf-ignore"
    ]
   },
   "source": [
    "In this exercise we will implement fully-connected networks using a more modular approach. For each layer we will implement a `forward` and a `backward` function. The `forward` function will receive inputs, weights, and other parameters and will return both an output and a `cache` object storing data needed for the backward pass, like this:\n",
    "\n",
    "```python\n",
    "def layer_forward(x, w):\n",
    "  \"\"\" Receive inputs x and weights w \"\"\"\n",
    "  # Do some computations ...\n",
    "  z = # ... some intermediate value\n",
    "  # Do some more computations ...\n",
    "  out = # the output\n",
    "   \n",
    "  cache = (x, w, z, out) # Values we need to compute gradients\n",
    "   \n",
    "  return out, cache\n",
    "```\n",
    "\n",
    "The backward pass will receive upstream derivatives and the `cache` object, and will return gradients with respect to the inputs and weights, like this:\n",
    "\n",
    "```python\n",
    "def layer_backward(dout, cache):\n",
    "  \"\"\"\n",
    "  Receive dout (derivative of loss with respect to outputs) and cache,\n",
    "  and compute derivative with respect to inputs.\n",
    "  \"\"\"\n",
    "  # Unpack cache values\n",
    "  x, w, z, out = cache\n",
    "  \n",
    "  # Use values in cache to compute derivatives\n",
    "  dx = # Derivative of loss with respect to x\n",
    "  dw = # Derivative of loss with respect to w\n",
    "  \n",
    "  return dx, dw\n",
    "```\n",
    "\n",
    "After implementing a bunch of layers this way, we will be able to easily combine them to build classifiers with different architectures.\n",
    "\n",
    "In addition to implementing fully-connected networks of arbitrary depth, we will also explore different update rules for optimization, \n",
    "and introduce Dropout as a regularizer to more efficiently optimize deep networks.\n",
    "  "
   ]
  },
  {
   "cell_type": "code",
   "execution_count": 1,
   "metadata": {
    "pycharm": {
     "is_executing": false
    },
    "tags": [
     "pdf-ignore"
    ]
   },
   "outputs": [],
   "source": [
    "# As usual, a bit of setup\n",
    "from __future__ import print_function\n",
    "import time\n",
    "import numpy as np\n",
    "import matplotlib.pyplot as plt\n",
    "from comp411.classifiers.fc_net import *\n",
    "from comp411.data_utils import get_CIFAR10_data\n",
    "from comp411.gradient_check import eval_numerical_gradient, eval_numerical_gradient_array\n",
    "from comp411.solver import Solver\n",
    "\n",
    "%matplotlib inline\n",
    "plt.rcParams['figure.figsize'] = (10.0, 8.0) # set default size of plots\n",
    "plt.rcParams['image.interpolation'] = 'nearest'\n",
    "plt.rcParams['image.cmap'] = 'gray'\n",
    "\n",
    "# for auto-reloading external modules\n",
    "# see http://stackoverflow.com/questions/1907993/autoreload-of-modules-in-ipython\n",
    "%load_ext autoreload\n",
    "%autoreload 2\n",
    "def rel_error(x, y):\n",
    "  \"\"\" returns relative error \"\"\"\n",
    "  return np.max(np.abs(x - y) / (np.maximum(1e-8, np.abs(x) + np.abs(y))))\n"
   ]
  },
  {
   "cell_type": "code",
   "execution_count": 2,
   "metadata": {
    "pycharm": {
     "is_executing": false
    },
    "tags": [
     "pdf-ignore"
    ]
   },
   "outputs": [
    {
     "name": "stdout",
     "output_type": "stream",
     "text": [
      "('X_train: ', (49000, 3, 32, 32))\n",
      "('y_train: ', (49000,))\n",
      "('X_val: ', (1000, 3, 32, 32))\n",
      "('y_val: ', (1000,))\n",
      "('X_test: ', (1000, 3, 32, 32))\n",
      "('y_test: ', (1000,))\n"
     ]
    }
   ],
   "source": [
    "# Load the (preprocessed) CIFAR10 data.\n",
    "\n",
    "data = get_CIFAR10_data()\n",
    "for k, v in list(data.items()):\n",
    "  print(('%s: ' % k, v.shape ))"
   ]
  },
  {
   "cell_type": "markdown",
   "metadata": {},
   "source": [
    "# Affine layer: forward\n",
    "Open the file `comp411/layers.py` and implement the `affine_forward` function.\n",
    "\n",
    "Once you are done you can test your implementation by running the following:"
   ]
  },
  {
   "cell_type": "code",
   "execution_count": 3,
   "metadata": {
    "pycharm": {
     "is_executing": false
    }
   },
   "outputs": [
    {
     "name": "stdout",
     "output_type": "stream",
     "text": [
      "Testing affine_forward function:\n",
      "difference:  9.769847728806635e-10\n"
     ]
    }
   ],
   "source": [
    "# Test the affine_forward function\n",
    "\n",
    "num_inputs = 2\n",
    "input_shape = (4, 5, 6)\n",
    "output_dim = 3\n",
    "\n",
    "input_size = num_inputs * np.prod(input_shape)\n",
    "weight_size = output_dim * np.prod(input_shape)\n",
    "\n",
    "x = np.linspace(-0.1, 0.5, num=input_size).reshape(num_inputs, *input_shape)\n",
    "w = np.linspace(-0.2, 0.3, num=weight_size).reshape(np.prod(input_shape), output_dim)\n",
    "b = np.linspace(-0.3, 0.1, num=output_dim)\n",
    "\n",
    "out, _ = affine_forward(x, w, b)\n",
    "correct_out = np.array([[ 1.49834967,  1.70660132,  1.91485297],\n",
    "                        [ 3.25553199,  3.5141327,   3.77273342]])\n",
    "\n",
    "# Compare your output with ours. The error should be around e-9 or less.\n",
    "print('Testing affine_forward function:')\n",
    "print('difference: ', rel_error(out, correct_out))"
   ]
  },
  {
   "cell_type": "markdown",
   "metadata": {},
   "source": [
    "# Affine layer: backward\n",
    "Now implement the `affine_backward` function and test your implementation using numeric gradient checking."
   ]
  },
  {
   "cell_type": "code",
   "execution_count": 4,
   "metadata": {
    "pycharm": {
     "is_executing": false
    }
   },
   "outputs": [
    {
     "name": "stdout",
     "output_type": "stream",
     "text": [
      "Testing affine_backward function:\n",
      "dx error:  1.7000935287071014e-10\n",
      "dw error:  9.587077175721597e-11\n",
      "db error:  1.5250527931104944e-11\n"
     ]
    }
   ],
   "source": [
    "# Test the affine_backward function\n",
    "np.random.seed(451)\n",
    "x = np.random.randn(10, 2, 3)\n",
    "w = np.random.randn(6, 5)\n",
    "b = np.random.randn(5)\n",
    "dout = np.random.randn(10, 5)\n",
    "\n",
    "dx_num = eval_numerical_gradient_array(lambda x: affine_forward(x, w, b)[0], x, dout)\n",
    "dw_num = eval_numerical_gradient_array(lambda w: affine_forward(x, w, b)[0], w, dout)\n",
    "db_num = eval_numerical_gradient_array(lambda b: affine_forward(x, w, b)[0], b, dout)\n",
    "\n",
    "_, cache = affine_forward(x, w, b)\n",
    "dx, dw, db = affine_backward(dout, cache)\n",
    "\n",
    "# The error should be around e-10 or less\n",
    "print('Testing affine_backward function:')\n",
    "print('dx error: ', rel_error(dx_num, dx))\n",
    "print('dw error: ', rel_error(dw_num, dw))\n",
    "print('db error: ', rel_error(db_num, db))"
   ]
  },
  {
   "cell_type": "markdown",
   "metadata": {},
   "source": [
    "# ReLU activation: forward\n",
    "Implement the forward pass for the ReLU activation function in the `relu_forward` function and test your implementation using the following:"
   ]
  },
  {
   "cell_type": "code",
   "execution_count": 5,
   "metadata": {
    "pycharm": {
     "is_executing": false
    }
   },
   "outputs": [
    {
     "name": "stdout",
     "output_type": "stream",
     "text": [
      "Testing relu_forward function:\n",
      "difference:  4.999999798022158e-08\n"
     ]
    }
   ],
   "source": [
    "# Test the relu_forward function\n",
    "\n",
    "x = np.linspace(-0.5, 0.5, num=12).reshape(3, 4)\n",
    "\n",
    "out, _ = relu_forward(x)\n",
    "correct_out = np.array([[ 0.,          0.,          0.,          0.,        ],\n",
    "                        [ 0.,          0.,          0.04545455,  0.13636364,],\n",
    "                        [ 0.22727273,  0.31818182,  0.40909091,  0.5,       ]])\n",
    "\n",
    "# Compare your output with ours. The error should be on the order of e-8\n",
    "print('Testing relu_forward function:')\n",
    "print('difference: ', rel_error(out, correct_out))"
   ]
  },
  {
   "cell_type": "markdown",
   "metadata": {},
   "source": [
    "# ReLU activation: backward\n",
    "Now implement the backward pass for the ReLU activation function in the `relu_backward` function and test your implementation using numeric gradient checking:"
   ]
  },
  {
   "cell_type": "code",
   "execution_count": 6,
   "metadata": {
    "pycharm": {
     "is_executing": false
    }
   },
   "outputs": [
    {
     "name": "stdout",
     "output_type": "stream",
     "text": [
      "Testing relu_backward function:\n",
      "dx error:  3.275629245991252e-12\n"
     ]
    }
   ],
   "source": [
    "np.random.seed(451)\n",
    "x = np.random.randn(10, 10)\n",
    "dout = np.random.randn(*x.shape)\n",
    "\n",
    "dx_num = eval_numerical_gradient_array(lambda x: relu_forward(x)[0], x, dout)\n",
    "\n",
    "_, cache = relu_forward(x)\n",
    "dx = relu_backward(dout, cache)\n",
    "\n",
    "# The error should be on the order of e-12\n",
    "print('Testing relu_backward function:')\n",
    "print('dx error: ', rel_error(dx_num, dx))"
   ]
  },
  {
   "cell_type": "markdown",
   "metadata": {
    "tags": [
     "pdf-inline"
    ]
   },
   "source": [
    "## Inline Question 1: \n",
    "\n",
    "In addition to ReLU, there are a number of different activation functions that one could use in neural networks, \n",
    "each with its pros and cons. In particular, an issue commonly seen with activation functions is getting zero (or close to zero)\n",
    " gradient flow during backpropagation. Which of the following activation functions have this problem? If you consider these \n",
    " functions in the one dimensional case, what types of input would lead to this behaviour?\n",
    "1. Sigmoid\n",
    "2. ReLU\n",
    "3. Leaky ReLU\n",
    "\n",
    "## Answer:\n",
    "\n",
    "1. Segmoid can saturate and have zero gradients. a simple input casus sigmoid to saturate is (-1000, 1000)\n",
    "2. ReLU also saturates for inout less than zero and causes zero gradients. a simple example causes ReLU to saturate is -2 or any negative number.\n",
    "3. Leaky ReLU doesn't have such a problem since it was introduced to solve this problem in ReLU. maybe an input of 0 can causes vanishing gradient problem in Leaky ReLU"
   ]
  },
  {
   "cell_type": "markdown",
   "metadata": {},
   "source": [
    "# Leaky ReLU activation: forward\n",
    "To solve the dying ReLU problem, researchers come up with a modified version i.e. Leaky ReLU.\n",
    "You can read its description from the `Leaky ReLU` section of <http://cs231n.github.io/neural-networks-1/>. \n",
    "Now, implement the forward pass for the Leaky ReLU activation function in the `leaky_relu_forward` function.\n",
    "\n",
    "To test your implementation, use the following:"
   ]
  },
  {
   "cell_type": "code",
   "execution_count": 7,
   "metadata": {
    "pycharm": {
     "is_executing": false,
     "name": "#%%\n"
    }
   },
   "outputs": [
    {
     "name": "stdout",
     "output_type": "stream",
     "text": [
      "Testing leaky_relu_forward function:\n",
      "difference:  1.3333333478534103e-09\n"
     ]
    }
   ],
   "source": [
    "# Test the leaky relu_forward function\n",
    "\n",
    "x = np.linspace(-0.5, 0.5, num=12).reshape(3, 4)\n",
    "\n",
    "out, _ = leaky_relu_forward(x, {\"alpha\": 0.001})\n",
    "correct_out = np.array([[-5.00000000e-04, -4.09090909e-04, -3.18181818e-04, -2.27272727e-04,],\n",
    "                        [-1.36363636e-04, -4.54545455e-05,  4.54545455e-02,  1.36363636e-01,],\n",
    "                        [ 2.27272727e-01,  3.18181818e-01,  4.09090909e-01,  5.00000000e-01,]])\n",
    "\n",
    "# Compare your output with ours. The error should be on the order of e-9\n",
    "print('Testing leaky_relu_forward function:')\n",
    "print('difference: ', rel_error(out, correct_out))"
   ]
  },
  {
   "cell_type": "markdown",
   "metadata": {},
   "source": [
    "# Leaky ReLU activation: backward\n",
    "Now implement the backward pass for the Leaky ReLU activation function in the `leaky_relu_backward` function and test \n",
    "your implementation using numeric gradient checking:"
   ]
  },
  {
   "cell_type": "code",
   "execution_count": 8,
   "metadata": {
    "pycharm": {
     "is_executing": false,
     "name": "#%%\n"
    }
   },
   "outputs": [
    {
     "name": "stdout",
     "output_type": "stream",
     "text": [
      "Testing leaky relu_backward function:\n",
      "dx error:  4.258613251108541e-12\n"
     ]
    }
   ],
   "source": [
    "np.random.seed(451)\n",
    "x = np.random.randn(10, 10)\n",
    "dout = np.random.randn(*x.shape)\n",
    "\n",
    "dx_num = eval_numerical_gradient_array(lambda x: leaky_relu_forward(x, {\"alpha\": 0.003})[0], x, dout)\n",
    "\n",
    "_, cache = leaky_relu_forward(x, {\"alpha\": 0.003})\n",
    "dx = leaky_relu_backward(dout, cache)\n",
    "\n",
    "# The error should be on the order of e-12\n",
    "print('Testing leaky relu_backward function:')\n",
    "print('dx error: ', rel_error(dx_num, dx))"
   ]
  },
  {
   "cell_type": "markdown",
   "metadata": {},
   "source": [
    "# \"Sandwich\" layers\n",
    "There are some common patterns of layers that are frequently used in neural nets. For example, affine layers are frequently followed\n",
    " by a ReLU nonlinearity. To make these common patterns easy, we define several convenience layers in the file `comp411/layer_utils.py`.\n",
    " \n",
    "For now take a look at the `affine_relu_forward` and `affine_relu_backward` functions, and run the following to numerically\n",
    " gradient check the backward pass:"
   ]
  },
  {
   "cell_type": "code",
   "execution_count": 9,
   "metadata": {
    "pycharm": {
     "is_executing": false
    }
   },
   "outputs": [
    {
     "name": "stdout",
     "output_type": "stream",
     "text": [
      "Testing affine_relu_forward and affine_relu_backward:\n",
      "dx error:  1.0293084292297588e-10\n",
      "dw error:  2.183915917228743e-10\n",
      "db error:  1.025140345152082e-10\n"
     ]
    }
   ],
   "source": [
    "from comp411.layer_utils import affine_relu_forward, affine_relu_backward\n",
    "np.random.seed(451)\n",
    "x = np.random.randn(2, 3, 4)\n",
    "w = np.random.randn(12, 10)\n",
    "b = np.random.randn(10)\n",
    "dout = np.random.randn(2, 10)\n",
    "\n",
    "out, cache = affine_relu_forward(x, w, b)\n",
    "dx, dw, db = affine_relu_backward(dout, cache)\n",
    "\n",
    "dx_num = eval_numerical_gradient_array(lambda x: affine_relu_forward(x, w, b)[0], x, dout)\n",
    "dw_num = eval_numerical_gradient_array(lambda w: affine_relu_forward(x, w, b)[0], w, dout)\n",
    "db_num = eval_numerical_gradient_array(lambda b: affine_relu_forward(x, w, b)[0], b, dout)\n",
    "\n",
    "# Relative error should be around e-10 or less\n",
    "print('Testing affine_relu_forward and affine_relu_backward:')\n",
    "print('dx error: ', rel_error(dx_num, dx))\n",
    "print('dw error: ', rel_error(dw_num, dw))\n",
    "print('db error: ', rel_error(db_num, db))\n"
   ]
  },
  {
   "cell_type": "markdown",
   "metadata": {},
   "source": [
    "We also implemented the `affine_lrelu_forward` and `affine_lrelu_backward` functions.\n",
    "You can run the following to numerically gradient check the backward pass:"
   ]
  },
  {
   "cell_type": "code",
   "execution_count": 10,
   "metadata": {
    "pycharm": {
     "is_executing": false,
     "name": "#%%\n"
    }
   },
   "outputs": [
    {
     "name": "stdout",
     "output_type": "stream",
     "text": [
      "Testing affine_lrelu_forward and affine_lrelu_backward:\n",
      "dx error:  1.4776748603027674e-09\n",
      "dw error:  1.0179892649987475e-08\n",
      "db error:  1.7146269715759432e-10\n"
     ]
    }
   ],
   "source": [
    "from comp411.layer_utils import affine_lrelu_forward, affine_lrelu_backward\n",
    "np.random.seed(451)\n",
    "x = np.random.randn(2, 3, 4)\n",
    "w = np.random.randn(12, 10)\n",
    "b = np.random.randn(10)\n",
    "alpha = np.random.random() / 100\n",
    "dout = np.random.randn(2, 10)\n",
    "\n",
    "out, cache = affine_lrelu_forward(x, w, b, {\"alpha\": 0.005})\n",
    "dx, dw, db = affine_lrelu_backward(dout, cache)\n",
    "\n",
    "dx_num = eval_numerical_gradient_array(lambda x: affine_lrelu_forward(x, w, b, {\"alpha\": 0.005})[0], x, dout)\n",
    "dw_num = eval_numerical_gradient_array(lambda w: affine_lrelu_forward(x, w, b, {\"alpha\": 0.005})[0], w, dout)\n",
    "db_num = eval_numerical_gradient_array(lambda b: affine_lrelu_forward(x, w, b, {\"alpha\": 0.005})[0], b, dout)\n",
    "\n",
    "# Relative error should be around e-9 or less\n",
    "print('Testing affine_lrelu_forward and affine_lrelu_backward:')\n",
    "print('dx error: ', rel_error(dx_num, dx))\n",
    "print('dw error: ', rel_error(dw_num, dw))\n",
    "print('db error: ', rel_error(db_num, db))"
   ]
  },
  {
   "cell_type": "markdown",
   "metadata": {},
   "source": [
    "# Loss layers: Softmax and SVM\n",
    "You implemented these loss functions in the last assignment, so we'll give them to you for free here. You should still \n",
    "make sure you understand how they work by looking at the implementations in `comp411/layers.py`.\n",
    "\n",
    "You can make sure that the implementations are correct by running the following:"
   ]
  },
  {
   "cell_type": "code",
   "execution_count": 11,
   "metadata": {
    "pycharm": {
     "is_executing": false
    }
   },
   "outputs": [
    {
     "name": "stdout",
     "output_type": "stream",
     "text": [
      "Testing svm_loss:\n",
      "loss:  9.000143027199895\n",
      "dx error:  1.4021566006651672e-09\n",
      "\n",
      "Testing softmax_loss:\n",
      "loss:  2.3025998662050595\n",
      "dx error:  8.85360138903831e-09\n"
     ]
    }
   ],
   "source": [
    "np.random.seed(451)\n",
    "num_classes, num_inputs = 10, 50\n",
    "x = 0.001 * np.random.randn(num_inputs, num_classes)\n",
    "y = np.random.randint(num_classes, size=num_inputs)\n",
    "\n",
    "dx_num = eval_numerical_gradient(lambda x: svm_loss(x, y)[0], x, verbose=False)\n",
    "loss, dx = svm_loss(x, y)\n",
    "\n",
    "# Test svm_loss function. Loss should be around 9 and dx error should be around the order of e-9\n",
    "print('Testing svm_loss:')\n",
    "print('loss: ', loss)\n",
    "print('dx error: ', rel_error(dx_num, dx))\n",
    "\n",
    "dx_num = eval_numerical_gradient(lambda x: softmax_loss(x, y)[0], x, verbose=False)\n",
    "loss, dx = softmax_loss(x, y)\n",
    "\n",
    "# Test softmax_loss function. Loss should be close to 2.3 and dx error should be around e-8\n",
    "print('\\nTesting softmax_loss:')\n",
    "print('loss: ', loss)\n",
    "print('dx error: ', rel_error(dx_num, dx))"
   ]
  },
  {
   "cell_type": "markdown",
   "metadata": {},
   "source": [
    "# Three-layer network\n",
    "In the previous assignment, you implemented a two-layer neural network in a single monolithic class. Now that you have \n",
    "implemented modular versions of the necessary layers, you are ready to implement your network with a modular approach.\n",
    "However, this time you will implement a three layer network.\n",
    "\n",
    "Open the file `comp411/classifiers/fc_net.py` and complete the implementation of the `ThreeLayerNet` class. This class \n",
    "will serve as a model for the other networks you will implement in this assignment, so read through it to make sure you \n",
    "understand the API. You can run the cell below to test your implementation."
   ]
  },
  {
   "cell_type": "code",
   "execution_count": 12,
   "metadata": {
    "pycharm": {
     "is_executing": false
    }
   },
   "outputs": [
    {
     "name": "stdout",
     "output_type": "stream",
     "text": [
      "{'W1': array([[-1.99938438e-03,  2.19142201e-03, -3.89729147e-06,\n",
      "         6.75082578e-04, -1.61529292e-04,  1.05119333e-03,\n",
      "        -1.61338597e-03,  4.32936784e-04,  1.86211847e-03,\n",
      "        -1.04173898e-03, -5.15507945e-04, -8.61534830e-05,\n",
      "         3.30711696e-04, -1.16326996e-03, -2.28089246e-03,\n",
      "         1.94480350e-03, -1.13101702e-04, -1.85278858e-04,\n",
      "        -5.55059047e-05, -9.16413819e-04,  1.54828592e-03,\n",
      "        -3.91656190e-04, -4.52112086e-05, -2.44617423e-04,\n",
      "        -3.30544902e-03,  1.79232548e-04, -5.62260468e-05,\n",
      "         1.37261663e-03, -1.70923097e-03,  1.99656130e-03,\n",
      "        -9.41099751e-04, -9.65585644e-04,  2.39434314e-04,\n",
      "        -3.98542166e-04, -3.09185257e-04, -1.34162910e-03,\n",
      "         1.77651281e-03, -5.25884737e-04,  5.23072679e-04,\n",
      "         8.68289767e-04, -1.28758946e-03, -1.32153831e-04,\n",
      "         4.73645697e-04, -8.55542873e-04, -8.02882014e-05,\n",
      "        -8.99104337e-04, -1.49537806e-03, -1.02651393e-03,\n",
      "         3.27691266e-04,  1.47491983e-04, -7.07629088e-04,\n",
      "        -4.60469488e-04,  6.10313379e-04,  9.12854582e-04,\n",
      "        -1.70091421e-03, -4.76407451e-04,  2.05344897e-03,\n",
      "         1.41938833e-03, -1.32026174e-03,  2.13660505e-03,\n",
      "         1.33107250e-03, -6.84070585e-04, -7.66785295e-04,\n",
      "        -8.45876145e-04,  3.00481505e-04, -3.01785452e-03,\n",
      "         5.99110507e-04,  4.83074294e-04, -1.32448691e-04,\n",
      "        -3.86747045e-04, -3.34616530e-04, -9.48600775e-06,\n",
      "         8.25350046e-04,  7.55507286e-04, -6.54389970e-04],\n",
      "       [ 3.92784527e-05, -6.78578515e-04, -3.63643052e-04,\n",
      "         1.36293001e-03,  1.69488180e-03, -2.26330852e-03,\n",
      "         5.23646580e-04,  1.21096643e-03,  1.02306104e-03,\n",
      "        -3.01698389e-05,  1.54960949e-03, -8.85443716e-04,\n",
      "         5.01573867e-04,  8.11301089e-04,  9.52801756e-04,\n",
      "         9.72350736e-04,  1.24923643e-03, -1.48479975e-03,\n",
      "        -3.66945086e-04,  1.02162732e-03, -1.54732997e-03,\n",
      "        -9.18750173e-04,  4.21940979e-04,  4.03025026e-04,\n",
      "        -1.51626554e-03,  1.61134622e-04, -1.25748420e-03,\n",
      "        -1.00004305e-03,  2.96859013e-04, -1.66353539e-03,\n",
      "        -4.38004222e-04, -6.61048578e-04,  3.85521172e-04,\n",
      "        -4.57431354e-04, -2.82278741e-04, -8.21803659e-04,\n",
      "        -2.41615725e-04, -7.66907939e-04,  9.37069620e-04,\n",
      "        -5.04724152e-04, -1.91781971e-03,  4.43137006e-05,\n",
      "         1.42054560e-03, -6.88955794e-04,  4.55356319e-04,\n",
      "        -5.71839602e-04, -5.68466584e-04,  5.27651522e-04,\n",
      "         1.08618743e-03,  1.61777067e-03,  3.25717639e-04,\n",
      "         4.54801285e-05, -2.83110741e-05, -4.44515513e-04,\n",
      "         5.60660496e-04,  8.75020157e-04,  2.20691214e-04,\n",
      "        -1.72149357e-04,  9.57930388e-04, -9.37015662e-04,\n",
      "        -1.45986229e-04,  2.12693252e-04, -5.65609952e-04,\n",
      "        -7.77203483e-05,  7.47197931e-04, -1.50846013e-03,\n",
      "        -9.16539230e-04,  1.72680258e-03, -2.98875429e-04,\n",
      "        -9.81447570e-04, -7.15696240e-04, -7.16068082e-04,\n",
      "        -1.22608736e-03, -2.45199584e-03, -2.19153971e-04],\n",
      "       [ 6.36073081e-04, -7.04246574e-04, -3.39919380e-04,\n",
      "         7.29705982e-04, -3.40745517e-04,  8.52002674e-04,\n",
      "         7.28419387e-04,  5.32851469e-04, -1.81060470e-04,\n",
      "         3.80260191e-04, -8.76667045e-04, -1.88951455e-04,\n",
      "         7.00839904e-04,  8.40250879e-04, -2.79543768e-04,\n",
      "         9.90075203e-04,  1.15511408e-03, -2.63414844e-04,\n",
      "         9.02092453e-05, -1.03343812e-03,  8.46348821e-04,\n",
      "        -1.82831732e-03, -7.93358668e-04,  8.17879267e-04,\n",
      "         3.82728972e-04, -7.85991664e-04, -9.73431215e-04,\n",
      "        -2.44483499e-04,  7.08800275e-04,  6.90133272e-04,\n",
      "        -4.88337018e-04, -3.65083496e-04,  8.93870000e-04,\n",
      "         1.40235194e-03, -3.68236354e-04, -3.99469914e-04,\n",
      "         1.44716426e-03,  3.05403467e-04,  2.87592083e-04,\n",
      "         9.99104054e-04,  7.02192010e-04,  7.51128535e-04,\n",
      "        -1.69306478e-04, -6.81363296e-04,  1.78355679e-04,\n",
      "        -1.20459805e-05,  1.01304636e-03, -1.21714603e-05,\n",
      "         1.01061005e-03, -2.85087469e-04, -1.88966903e-03,\n",
      "        -2.41630520e-04, -1.03439339e-03, -3.61818636e-04,\n",
      "         4.06138748e-04,  8.15725143e-04,  1.20517830e-05,\n",
      "        -6.80905979e-05, -2.41915869e-04,  1.52370051e-04,\n",
      "         9.79897398e-04, -5.22702747e-04, -7.13090459e-05,\n",
      "         1.19971220e-03,  5.28478723e-04, -7.48849712e-04,\n",
      "        -4.88926870e-04,  1.29221501e-03,  7.95225879e-04,\n",
      "         2.48829705e-03, -1.92022009e-05,  1.80780501e-03,\n",
      "         4.51593660e-04, -1.20728256e-03, -1.34701606e-03],\n",
      "       [ 7.51479718e-04,  2.54805086e-04,  8.17728908e-04,\n",
      "        -2.62244262e-04,  1.29235720e-03, -3.34638119e-04,\n",
      "         3.89299355e-04,  1.12978959e-03,  5.34820950e-05,\n",
      "         1.37180756e-03, -1.27349042e-03, -1.44517367e-03,\n",
      "        -1.48922465e-03,  1.41655396e-03,  5.32217390e-04,\n",
      "         4.03039536e-04,  1.11593120e-03,  7.32667969e-04,\n",
      "        -1.67544734e-03, -2.10524399e-03,  1.08304477e-03,\n",
      "         5.56924306e-04,  9.80914301e-04,  5.02292496e-04,\n",
      "        -7.90906826e-04, -3.93503215e-04,  7.78593463e-04,\n",
      "        -2.70844654e-04,  1.43895212e-03,  1.41113629e-04,\n",
      "         5.87273161e-04,  1.67501881e-04, -9.43306881e-05,\n",
      "         1.34559729e-03, -9.70269215e-04, -1.35356144e-03,\n",
      "         5.53930592e-04, -2.31489667e-03,  7.16615301e-04,\n",
      "         2.36364236e-03,  2.53401175e-04, -3.63333524e-04,\n",
      "         2.93210889e-04, -2.55992406e-04,  6.68748067e-04,\n",
      "        -4.29530654e-04,  2.40852013e-04, -4.42916548e-04,\n",
      "        -4.05722127e-04,  1.06548504e-03, -5.44892485e-04,\n",
      "         9.80211667e-05, -3.87143527e-04, -1.05238234e-03,\n",
      "         2.00701241e-03,  1.39993734e-03, -8.96172862e-04,\n",
      "        -7.33082793e-04,  2.21842960e-03,  5.42369413e-04,\n",
      "        -1.38607205e-03,  2.06971781e-03, -5.69380864e-04,\n",
      "        -1.55428771e-04,  4.62826570e-04, -9.55310652e-05,\n",
      "        -1.08591913e-03, -1.38095390e-05, -1.07386895e-04,\n",
      "        -7.46401880e-04, -3.40194569e-04,  3.59835217e-05,\n",
      "        -2.05204696e-04,  4.57434941e-04, -7.24343265e-04],\n",
      "       [ 1.25353627e-03,  3.86344968e-04,  1.35110354e-03,\n",
      "        -1.82496896e-03,  5.75527491e-04, -1.23422173e-04,\n",
      "        -1.31023937e-03, -1.89023373e-03, -1.55676598e-03,\n",
      "         1.06471562e-03, -2.77015214e-04,  1.27329965e-04,\n",
      "        -2.43297271e-03, -1.92843192e-03,  2.15912824e-04,\n",
      "        -9.26968408e-04,  6.24739221e-04, -6.22540868e-04,\n",
      "        -6.03210167e-04,  5.95704342e-04,  3.67673031e-04,\n",
      "         4.72155321e-04,  1.80616415e-03, -8.21969313e-05,\n",
      "         1.31197199e-04,  1.23758012e-03,  1.24813852e-03,\n",
      "        -9.20984774e-04,  1.04175221e-03,  4.29756316e-04,\n",
      "         8.24616787e-04, -9.80537435e-04, -1.16702675e-03,\n",
      "         1.40078917e-03, -3.38342641e-04, -8.10181259e-04,\n",
      "         9.52240089e-04, -9.69384136e-04, -6.45062877e-04,\n",
      "        -3.25763798e-04, -1.45339671e-03,  6.07406963e-04,\n",
      "         8.62803101e-04,  6.19338242e-05, -1.36556008e-03,\n",
      "        -4.54481899e-05, -1.47546894e-03, -4.44930343e-04,\n",
      "         1.34890614e-03, -2.08172144e-04, -9.95747888e-04,\n",
      "         2.15795276e-03, -1.33009640e-04, -9.23404940e-04,\n",
      "         6.60672478e-04,  1.14643022e-03,  3.90458684e-04,\n",
      "        -9.67902664e-04,  1.04038502e-03, -1.54129998e-03,\n",
      "        -7.06666636e-04,  1.25322955e-03, -2.40414618e-03,\n",
      "        -9.04625027e-04,  7.75952542e-05,  5.45957815e-04,\n",
      "         1.43248016e-03, -9.70402302e-04,  7.71434027e-04,\n",
      "        -4.40718320e-04, -6.63579055e-04, -6.51633106e-04,\n",
      "        -8.15729701e-04, -4.77686482e-04, -4.24421480e-04]]), 'b1': array([0., 0., 0., 0., 0., 0., 0., 0., 0., 0., 0., 0., 0., 0., 0., 0., 0.,\n",
      "       0., 0., 0., 0., 0., 0., 0., 0., 0., 0., 0., 0., 0., 0., 0., 0., 0.,\n",
      "       0., 0., 0., 0., 0., 0., 0., 0., 0., 0., 0., 0., 0., 0., 0., 0., 0.,\n",
      "       0., 0., 0., 0., 0., 0., 0., 0., 0., 0., 0., 0., 0., 0., 0., 0., 0.,\n",
      "       0., 0., 0., 0., 0., 0., 0.]), 'W2': array([[ 6.87390523e-05, -1.90818641e-04,  6.43296312e-04, ...,\n",
      "        -1.29272419e-03,  7.57268591e-05, -6.14603443e-04],\n",
      "       [ 2.10310594e-03,  7.19448034e-04, -9.16795342e-04, ...,\n",
      "        -1.22278905e-03, -2.12268255e-04,  3.49628450e-04],\n",
      "       [-4.75291221e-04,  1.85533350e-03, -1.44327460e-03, ...,\n",
      "        -1.18669545e-03, -1.06579311e-03, -9.64499405e-04],\n",
      "       ...,\n",
      "       [-3.28419264e-04, -1.46802436e-03, -5.12597624e-04, ...,\n",
      "        -1.83189198e-03, -6.81563999e-04, -3.10761591e-03],\n",
      "       [ 1.67519890e-03,  3.66992923e-04, -2.49352439e-04, ...,\n",
      "        -1.32560685e-04, -7.13299109e-05,  4.55865805e-04],\n",
      "       [ 1.37915513e-03, -1.06844428e-03,  7.19766540e-07, ...,\n",
      "         8.80185856e-04,  2.26003729e-04,  8.79380403e-04]]), 'b2': array([0., 0., 0., 0., 0., 0., 0., 0., 0., 0., 0., 0., 0., 0., 0., 0., 0.,\n",
      "       0., 0., 0., 0., 0., 0., 0., 0., 0., 0., 0., 0., 0., 0., 0., 0., 0.,\n",
      "       0., 0., 0., 0., 0., 0., 0., 0., 0., 0., 0., 0., 0., 0., 0., 0.]), 'W3': array([[ 1.78367248e-03,  8.25967488e-04,  3.51576647e-04,\n",
      "         6.94725228e-04, -4.65795335e-04,  8.88223216e-04,\n",
      "        -1.07639120e-03],\n",
      "       [ 2.69671091e-04,  7.53312466e-04, -3.77951772e-04,\n",
      "        -3.71562946e-04,  5.25893049e-04, -9.20605458e-04,\n",
      "         9.46672637e-04],\n",
      "       [-5.05812718e-04,  1.84885273e-03,  7.88843213e-04,\n",
      "         6.43806830e-04,  1.79804249e-03, -2.85968261e-04,\n",
      "        -2.08855142e-04],\n",
      "       [ 1.72689669e-04,  4.01896094e-04, -2.69682998e-04,\n",
      "         5.95622765e-04, -3.72443769e-04, -5.65961294e-04,\n",
      "         1.79651564e-03],\n",
      "       [ 2.82127335e-05, -2.40721422e-04, -7.17489788e-04,\n",
      "         1.23889948e-03, -1.12744972e-03,  1.14408935e-03,\n",
      "         4.45570176e-04],\n",
      "       [ 1.72788116e-03,  1.23120024e-03, -3.36677389e-04,\n",
      "        -2.16974186e-03, -7.97696602e-04, -1.13725305e-03,\n",
      "        -3.37390457e-04],\n",
      "       [ 2.48716683e-04, -9.39605103e-05, -1.24104214e-03,\n",
      "         7.28115628e-05, -5.13109065e-04, -3.95031189e-04,\n",
      "        -1.26718667e-03],\n",
      "       [ 7.61022113e-04, -4.50833219e-04, -2.59260523e-04,\n",
      "         1.80575605e-05,  6.37174672e-04, -1.30799204e-03,\n",
      "         6.69708176e-04],\n",
      "       [ 8.93275627e-05,  7.78060835e-04,  3.49266440e-04,\n",
      "        -1.50926753e-03,  1.27683758e-04, -1.96571964e-04,\n",
      "         4.51925522e-06],\n",
      "       [ 1.10700882e-03, -1.86361550e-03, -5.46983806e-04,\n",
      "        -1.11614714e-03,  5.82966481e-04,  8.68501546e-04,\n",
      "         1.58168562e-03],\n",
      "       [ 5.82963621e-04,  1.69041964e-03,  4.70653693e-04,\n",
      "        -5.61139085e-04,  7.66118638e-04, -1.72049652e-04,\n",
      "         3.31746654e-04],\n",
      "       [ 2.94385068e-04,  1.22091551e-04, -8.40381061e-04,\n",
      "        -1.34692094e-03,  2.19972597e-03, -1.08069415e-03,\n",
      "         1.60323261e-04],\n",
      "       [-9.63176535e-05,  7.09012238e-04, -6.44524616e-04,\n",
      "        -4.85027842e-04, -1.68556940e-03, -1.56236846e-03,\n",
      "        -2.93951856e-04],\n",
      "       [ 1.14285639e-03,  3.49282488e-04, -2.29011605e-05,\n",
      "         1.65099826e-03,  1.31617917e-03, -1.76027294e-03,\n",
      "         1.46679637e-04],\n",
      "       [ 5.00392482e-04,  4.33526057e-04, -1.27146411e-03,\n",
      "        -1.18895563e-03, -8.45408732e-04, -1.26865306e-04,\n",
      "        -3.49053156e-04],\n",
      "       [ 5.20943734e-04,  3.90443926e-05, -6.65058268e-05,\n",
      "         5.98569556e-04,  8.27842606e-04, -1.16957690e-03,\n",
      "         1.48003735e-04],\n",
      "       [-6.23475258e-04,  1.26529919e-03,  5.46999333e-04,\n",
      "         2.84175946e-03, -9.51155633e-04,  1.09384775e-03,\n",
      "        -2.30036203e-04],\n",
      "       [-1.02141082e-04, -3.40297922e-05, -4.44722343e-04,\n",
      "        -5.41549458e-04, -1.85498321e-03,  2.63490715e-03,\n",
      "         9.40097885e-04],\n",
      "       [ 1.03955137e-03, -6.11256265e-05, -2.72488640e-05,\n",
      "        -1.05714047e-03, -1.62909129e-03, -4.64072512e-04,\n",
      "         1.52267862e-03],\n",
      "       [-1.62258035e-03,  1.38379150e-03,  2.68375019e-04,\n",
      "         1.63705406e-03, -1.69651469e-03, -3.13604317e-04,\n",
      "         2.22864969e-05],\n",
      "       [ 7.54794057e-05, -7.54885227e-04,  9.26006849e-04,\n",
      "         9.18628895e-05, -8.94378845e-04, -2.22301467e-03,\n",
      "        -1.61871906e-03],\n",
      "       [ 4.22846700e-04, -5.56040066e-04,  8.73912726e-04,\n",
      "        -2.99611754e-05,  2.73579637e-04, -4.69954957e-04,\n",
      "         1.83252114e-03],\n",
      "       [-2.18699295e-03, -1.07277712e-03, -9.73651166e-06,\n",
      "         2.29265254e-03,  9.83896938e-04, -2.25180894e-04,\n",
      "         2.59091574e-04],\n",
      "       [ 1.49640233e-03, -4.83314489e-04, -1.36115228e-03,\n",
      "         2.29287859e-04, -8.73898707e-04,  1.45575457e-03,\n",
      "        -1.29447426e-04],\n",
      "       [-2.38933588e-04,  7.06251424e-04,  7.18470048e-04,\n",
      "        -1.35413658e-04, -1.16899191e-04, -5.48260519e-04,\n",
      "        -8.81550438e-04],\n",
      "       [ 3.47040725e-04,  1.60228995e-03,  1.69294410e-04,\n",
      "         1.69394340e-03, -5.84468880e-04,  1.87077782e-03,\n",
      "         1.13404895e-03],\n",
      "       [-3.66534588e-06, -4.48227268e-04,  5.39703304e-04,\n",
      "        -1.48524497e-03, -1.54509954e-03, -7.72602217e-04,\n",
      "        -2.31658206e-04],\n",
      "       [-9.59791921e-04,  3.48272767e-05, -9.29195688e-04,\n",
      "        -5.48654556e-04, -1.72135886e-03, -1.31260202e-03,\n",
      "        -7.94872916e-04],\n",
      "       [-4.93225523e-04, -1.44569194e-03,  1.03883725e-03,\n",
      "        -3.89088989e-04, -1.19976497e-04,  5.53756425e-04,\n",
      "        -3.88857668e-04],\n",
      "       [ 1.25370074e-03,  1.84455948e-03,  7.04684645e-05,\n",
      "        -3.79278484e-04, -2.11935400e-03,  5.83872894e-04,\n",
      "         3.38002191e-04],\n",
      "       [-5.59787605e-04, -7.07878007e-04, -3.95106782e-04,\n",
      "         5.87659042e-04,  3.57009130e-04,  1.69447253e-03,\n",
      "        -2.63245986e-04],\n",
      "       [ 5.66512561e-04, -6.73393277e-06,  1.07921258e-04,\n",
      "        -1.50643454e-03,  2.28044294e-03, -1.13097752e-03,\n",
      "         5.26856507e-05],\n",
      "       [ 5.61513741e-04,  2.71034044e-04,  4.82218931e-05,\n",
      "        -2.73295524e-04, -3.54226498e-04, -2.65015409e-04,\n",
      "         1.10355255e-03],\n",
      "       [-2.85210352e-04, -9.49263005e-05,  2.52377282e-04,\n",
      "         8.03687313e-04, -1.48366782e-04, -5.02710629e-04,\n",
      "        -6.80979274e-04],\n",
      "       [ 3.43866486e-05,  3.28385265e-04, -1.93850169e-04,\n",
      "         1.59963978e-04, -5.65770619e-04,  6.32407468e-04,\n",
      "        -3.95892390e-04],\n",
      "       [-6.89303367e-04, -8.34038174e-04,  6.19393324e-04,\n",
      "         1.23107049e-03,  5.71140634e-04,  1.25215189e-05,\n",
      "        -1.08625484e-03],\n",
      "       [-1.03730712e-03,  1.35580181e-03,  4.82503978e-04,\n",
      "        -3.80129752e-04,  1.68026016e-03,  3.40783449e-04,\n",
      "         1.11591619e-04],\n",
      "       [-6.89465236e-04, -1.66742967e-03,  1.88566320e-03,\n",
      "         5.64156969e-04,  2.72955262e-05,  5.63700073e-04,\n",
      "         5.68125917e-04],\n",
      "       [ 3.95989633e-04, -6.82182464e-04, -1.13438708e-03,\n",
      "         1.22381628e-03,  4.75767914e-04, -4.74672603e-04,\n",
      "        -1.98747703e-03],\n",
      "       [ 5.00055495e-04, -1.93048476e-03,  6.65107438e-04,\n",
      "         9.97718696e-04, -9.94784414e-04,  1.00898396e-04,\n",
      "         5.15946723e-04],\n",
      "       [ 7.79541441e-05, -6.12232858e-04,  7.10406805e-04,\n",
      "         1.45946792e-04, -2.57123627e-04,  4.52152827e-05,\n",
      "         1.30448012e-03],\n",
      "       [ 4.99164112e-04,  1.24956426e-03,  4.93146600e-04,\n",
      "        -8.74622680e-04, -2.19475535e-04, -3.01367495e-04,\n",
      "         4.34574123e-04],\n",
      "       [-4.29671093e-04, -1.91858554e-04, -6.04187258e-04,\n",
      "        -9.03609655e-04,  2.87133244e-04, -2.23612930e-04,\n",
      "        -1.39431634e-04],\n",
      "       [-8.52528422e-04, -1.04024114e-03, -1.32088960e-03,\n",
      "         2.25013487e-03,  1.13652104e-03, -3.60945510e-04,\n",
      "         2.46628338e-03],\n",
      "       [-1.79659220e-03,  1.62858278e-03, -9.49067857e-04,\n",
      "        -6.93113858e-07,  1.45137076e-03, -2.00989645e-03,\n",
      "         1.05236546e-03],\n",
      "       [ 1.52114426e-03, -3.70945458e-04, -7.32587273e-04,\n",
      "        -2.20002248e-04,  8.69761139e-04, -1.77220362e-03,\n",
      "         2.07717200e-03],\n",
      "       [-1.23668752e-03,  2.04196334e-05, -7.25711312e-04,\n",
      "        -5.96567647e-04,  1.87909069e-04,  1.00066957e-03,\n",
      "         1.00798424e-03],\n",
      "       [-9.12424182e-04, -1.23003153e-03,  3.62353476e-04,\n",
      "         1.37353292e-04, -5.94530676e-04,  5.70553848e-05,\n",
      "         4.66361033e-04],\n",
      "       [-9.22221929e-05, -1.51002179e-03,  3.57322711e-04,\n",
      "         7.42912698e-04,  7.34778722e-04,  5.93213702e-05,\n",
      "         3.30739622e-05],\n",
      "       [ 1.96911295e-03, -8.98037945e-04, -1.13687564e-03,\n",
      "        -3.99310450e-04,  1.03169289e-03,  3.02323782e-04,\n",
      "        -7.60536574e-04]]), 'b3': array([0., 0., 0., 0., 0., 0., 0.])}\n",
      "Testing initialization ... \n",
      "Testing test-time forward pass ... \n",
      "Testing training loss (no regularization)\n",
      "Running numeric gradient check with reg =  0.0\n",
      "W1 relative error: 3.62e-07\n",
      "W2 relative error: 1.16e-08\n",
      "W3 relative error: 4.40e-08\n",
      "b1 relative error: 1.48e-07\n",
      "b2 relative error: 5.10e-08\n",
      "b3 relative error: 2.43e-08\n",
      "Running numeric gradient check with reg =  0.7\n",
      "W1 relative error: 5.91e-07\n",
      "W2 relative error: 7.52e-06\n",
      "W3 relative error: 3.76e-07\n",
      "b1 relative error: 2.86e-07\n",
      "b2 relative error: 5.10e-08\n",
      "b3 relative error: 1.48e-06\n"
     ]
    }
   ],
   "source": [
    "np.random.seed(451)\n",
    "N, D, H, C = 3, 5, (75, 50), 7\n",
    "X = np.random.randn(N, D)\n",
    "y = np.random.randint(C, size=N)\n",
    "\n",
    "std = 1e-3\n",
    "model = ThreeLayerNet(input_dim=D, hidden_dim=H, num_classes=C, weight_scale=std)\n",
    "print(model.params)\n",
    "print('Testing initialization ... ')\n",
    "W1_std = abs(model.params['W1'].std() - std)\n",
    "b1 = model.params['b1']\n",
    "W2_std = abs(model.params['W2'].std() - std)\n",
    "b2 = model.params['b2']\n",
    "W3_std = abs(model.params['W3'].std() - std)\n",
    "b3 = model.params['b3']\n",
    "assert W1_std < std / 10, 'First layer weights do not seem right'\n",
    "assert np.all(b1 == 0), 'First layer biases do not seem right'\n",
    "assert W2_std < std / 10, 'Second layer weights do not seem right'\n",
    "assert np.all(b2 == 0), 'Second layer biases do not seem right'\n",
    "assert W3_std < std / 10, 'Third layer weights do not seem right'\n",
    "assert np.all(b3 == 0), 'Third layer biases do not seem right'\n",
    "\n",
    "print('Testing test-time forward pass ... ')\n",
    "model.params['W1'] = np.linspace(-0.7, 0.3, num=D*H[0]).reshape(D, H[0])\n",
    "model.params['b1'] = np.linspace(-0.1, 0.9, num=H[0])\n",
    "model.params['W2'] = np.linspace(-0.3, 0.4, num=H[0]*H[1]).reshape(H[0], H[1])\n",
    "model.params['b2'] = np.linspace(-0.9, 0.1, num=H[1])\n",
    "model.params['W3'] = np.linspace(-0.3, 0.4, num=H[1]*C).reshape(H[1], C)\n",
    "model.params['b3'] = np.linspace(-0.9, 0.1, num=C)\n",
    "X = np.linspace(-5.5, 4.5, num=N*D).reshape(D, N).T\n",
    "scores = model.loss(X)\n",
    "\n",
    "correct_scores = np.array(\n",
    "    [[60.09345785, 62.35363693, 64.613816,   66.87399508, 69.13417415, 71.39435323, 73.6545323 ],\n",
    "     [59.63188791, 61.93770366, 64.2435194,  66.54933515, 68.85515089, 71.16096663, 73.46678238],\n",
    "     [59.17031798, 61.52177039, 63.8732228,  66.22467521, 68.57612763, 70.92758004, 73.27903245]])\n",
    "scores_diff = np.abs(scores - correct_scores).sum()\n",
    "assert scores_diff < 1e-6, 'Problem with test-time forward pass'\n",
    "\n",
    "print('Testing training loss (no regularization)')\n",
    "y = np.asarray([0, 5, 1])\n",
    "loss, grads = model.loss(X, y)\n",
    "correct_loss = 9.313138246559005\n",
    "assert abs(loss - correct_loss) < 1e-10, 'Problem with training-time loss'\n",
    "\n",
    "model.reg = 1.0\n",
    "loss, grads = model.loss(X, y)\n",
    "correct_loss = 121.43682228904008\n",
    "assert abs(loss - correct_loss) < 1e-10, 'Problem with regularization loss'\n",
    "\n",
    "# Errors should be around e-6 or less\n",
    "for reg in [0.0, 0.7]:\n",
    "  print('Running numeric gradient check with reg = ', reg)\n",
    "  model.reg = reg\n",
    "  loss, grads = model.loss(X, y)\n",
    "\n",
    "  for name in sorted(grads):\n",
    "    f = lambda _: model.loss(X, y)[0]\n",
    "    grad_num = eval_numerical_gradient(f, model.params[name], verbose=False)\n",
    "    print('%s relative error: %.2e' % (name, rel_error(grad_num, grads[name])))"
   ]
  },
  {
   "cell_type": "markdown",
   "metadata": {},
   "source": [
    "# Solver\n",
    "In the previous assignment, the logic for training models was coupled to the models themselves. Following a more modular design, for this assignment we have split the logic for training models into a separate class.\n",
    "\n",
    "Open the file `comp411/solver.py` and read through it to familiarize yourself with the API. After doing so, use a `Solver`\n",
    " instance to train a `ThreeLayerNet` that achieves at least `50%` accuracy on the validation set after training for 10 epochs."
   ]
  },
  {
   "cell_type": "code",
   "execution_count": 13,
   "metadata": {
    "pycharm": {
     "is_executing": false,
     "name": "#%%\n"
    }
   },
   "outputs": [
    {
     "name": "stdout",
     "output_type": "stream",
     "text": [
      "(Iteration 1 / 4900) loss: 2.302594\n",
      "(Epoch 0 / 10) train acc: 0.097000; val_acc: 0.081000\n",
      "(Iteration 11 / 4900) loss: 2.302604\n",
      "(Iteration 21 / 4900) loss: 2.302309\n",
      "(Iteration 31 / 4900) loss: 2.302619\n",
      "(Iteration 41 / 4900) loss: 2.302428\n",
      "(Iteration 51 / 4900) loss: 2.303060\n",
      "(Iteration 61 / 4900) loss: 2.302501\n",
      "(Iteration 71 / 4900) loss: 2.302817\n",
      "(Iteration 81 / 4900) loss: 2.301964\n",
      "(Iteration 91 / 4900) loss: 2.302595\n",
      "(Iteration 101 / 4900) loss: 2.302199\n",
      "(Iteration 111 / 4900) loss: 2.302809\n",
      "(Iteration 121 / 4900) loss: 2.302853\n",
      "(Iteration 131 / 4900) loss: 2.301574\n",
      "(Iteration 141 / 4900) loss: 2.302152\n",
      "(Iteration 151 / 4900) loss: 2.300287\n",
      "(Iteration 161 / 4900) loss: 2.289765\n",
      "(Iteration 171 / 4900) loss: 2.262171\n",
      "(Iteration 181 / 4900) loss: 2.189708\n",
      "(Iteration 191 / 4900) loss: 2.223367\n",
      "(Iteration 201 / 4900) loss: 2.207913\n",
      "(Iteration 211 / 4900) loss: 2.128338\n",
      "(Iteration 221 / 4900) loss: 2.158093\n",
      "(Iteration 231 / 4900) loss: 2.168202\n",
      "(Iteration 241 / 4900) loss: 2.184198\n",
      "(Iteration 251 / 4900) loss: 2.082084\n",
      "(Iteration 261 / 4900) loss: 2.125680\n",
      "(Iteration 271 / 4900) loss: 2.219014\n",
      "(Iteration 281 / 4900) loss: 2.177287\n",
      "(Iteration 291 / 4900) loss: 2.075434\n",
      "(Iteration 301 / 4900) loss: 2.050364\n",
      "(Iteration 311 / 4900) loss: 1.936803\n",
      "(Iteration 321 / 4900) loss: 2.132409\n",
      "(Iteration 331 / 4900) loss: 1.886003\n",
      "(Iteration 341 / 4900) loss: 2.013210\n",
      "(Iteration 351 / 4900) loss: 2.070330\n",
      "(Iteration 361 / 4900) loss: 1.965749\n",
      "(Iteration 371 / 4900) loss: 1.953112\n",
      "(Iteration 381 / 4900) loss: 1.878165\n",
      "(Iteration 391 / 4900) loss: 1.966045\n",
      "(Iteration 401 / 4900) loss: 1.990749\n",
      "(Iteration 411 / 4900) loss: 1.937207\n",
      "(Iteration 421 / 4900) loss: 1.939333\n",
      "(Iteration 431 / 4900) loss: 1.854704\n",
      "(Iteration 441 / 4900) loss: 1.834394\n",
      "(Iteration 451 / 4900) loss: 1.854743\n",
      "(Iteration 461 / 4900) loss: 1.994807\n",
      "(Iteration 471 / 4900) loss: 1.926085\n",
      "(Iteration 481 / 4900) loss: 1.743918\n",
      "(Epoch 1 / 10) train acc: 0.321000; val_acc: 0.352000\n",
      "(Iteration 491 / 4900) loss: 1.685906\n",
      "(Iteration 501 / 4900) loss: 1.913218\n",
      "(Iteration 511 / 4900) loss: 1.873275\n",
      "(Iteration 521 / 4900) loss: 1.711569\n",
      "(Iteration 531 / 4900) loss: 1.697567\n",
      "(Iteration 541 / 4900) loss: 1.749530\n",
      "(Iteration 551 / 4900) loss: 1.850543\n",
      "(Iteration 561 / 4900) loss: 1.608441\n",
      "(Iteration 571 / 4900) loss: 1.725555\n",
      "(Iteration 581 / 4900) loss: 1.697694\n",
      "(Iteration 591 / 4900) loss: 1.673098\n",
      "(Iteration 601 / 4900) loss: 1.539885\n",
      "(Iteration 611 / 4900) loss: 1.647938\n",
      "(Iteration 621 / 4900) loss: 1.671453\n",
      "(Iteration 631 / 4900) loss: 1.673818\n",
      "(Iteration 641 / 4900) loss: 1.677397\n",
      "(Iteration 651 / 4900) loss: 1.616753\n",
      "(Iteration 661 / 4900) loss: 1.792856\n",
      "(Iteration 671 / 4900) loss: 1.777501\n",
      "(Iteration 681 / 4900) loss: 1.639151\n",
      "(Iteration 691 / 4900) loss: 1.713743\n",
      "(Iteration 701 / 4900) loss: 1.769056\n",
      "(Iteration 711 / 4900) loss: 1.657364\n",
      "(Iteration 721 / 4900) loss: 1.711737\n",
      "(Iteration 731 / 4900) loss: 1.742164\n",
      "(Iteration 741 / 4900) loss: 1.804001\n",
      "(Iteration 751 / 4900) loss: 1.689138\n",
      "(Iteration 761 / 4900) loss: 1.645073\n",
      "(Iteration 771 / 4900) loss: 1.518628\n",
      "(Iteration 781 / 4900) loss: 1.701916\n",
      "(Iteration 791 / 4900) loss: 1.598593\n",
      "(Iteration 801 / 4900) loss: 1.625868\n",
      "(Iteration 811 / 4900) loss: 1.744615\n",
      "(Iteration 821 / 4900) loss: 1.656595\n",
      "(Iteration 831 / 4900) loss: 1.738201\n",
      "(Iteration 841 / 4900) loss: 1.597195\n",
      "(Iteration 851 / 4900) loss: 1.546659\n",
      "(Iteration 861 / 4900) loss: 1.656718\n",
      "(Iteration 871 / 4900) loss: 1.771349\n",
      "(Iteration 881 / 4900) loss: 1.502731\n",
      "(Iteration 891 / 4900) loss: 1.459914\n",
      "(Iteration 901 / 4900) loss: 1.516161\n",
      "(Iteration 911 / 4900) loss: 1.739150\n",
      "(Iteration 921 / 4900) loss: 1.493509\n",
      "(Iteration 931 / 4900) loss: 1.725557\n",
      "(Iteration 941 / 4900) loss: 1.657950\n",
      "(Iteration 951 / 4900) loss: 1.723048\n",
      "(Iteration 961 / 4900) loss: 1.797523\n",
      "(Iteration 971 / 4900) loss: 1.551962\n",
      "(Epoch 2 / 10) train acc: 0.441000; val_acc: 0.460000\n",
      "(Iteration 981 / 4900) loss: 1.703470\n",
      "(Iteration 991 / 4900) loss: 1.525445\n",
      "(Iteration 1001 / 4900) loss: 1.630294\n",
      "(Iteration 1011 / 4900) loss: 1.525856\n",
      "(Iteration 1021 / 4900) loss: 1.394288\n",
      "(Iteration 1031 / 4900) loss: 1.594437\n",
      "(Iteration 1041 / 4900) loss: 1.606923\n",
      "(Iteration 1051 / 4900) loss: 1.514111\n",
      "(Iteration 1061 / 4900) loss: 1.640052\n",
      "(Iteration 1071 / 4900) loss: 1.501951\n",
      "(Iteration 1081 / 4900) loss: 1.664072\n",
      "(Iteration 1091 / 4900) loss: 1.498270\n",
      "(Iteration 1101 / 4900) loss: 1.438708\n",
      "(Iteration 1111 / 4900) loss: 1.426423\n",
      "(Iteration 1121 / 4900) loss: 1.578336\n",
      "(Iteration 1131 / 4900) loss: 1.652846\n",
      "(Iteration 1141 / 4900) loss: 1.652080\n",
      "(Iteration 1151 / 4900) loss: 1.526125\n",
      "(Iteration 1161 / 4900) loss: 1.535596\n",
      "(Iteration 1171 / 4900) loss: 1.737493\n",
      "(Iteration 1181 / 4900) loss: 1.757043\n",
      "(Iteration 1191 / 4900) loss: 1.456722\n",
      "(Iteration 1201 / 4900) loss: 1.471473\n",
      "(Iteration 1211 / 4900) loss: 1.558659\n",
      "(Iteration 1221 / 4900) loss: 1.505712\n",
      "(Iteration 1231 / 4900) loss: 1.449990\n",
      "(Iteration 1241 / 4900) loss: 1.420361\n",
      "(Iteration 1251 / 4900) loss: 1.466339\n",
      "(Iteration 1261 / 4900) loss: 1.431315\n",
      "(Iteration 1271 / 4900) loss: 1.407748\n",
      "(Iteration 1281 / 4900) loss: 1.409528\n",
      "(Iteration 1291 / 4900) loss: 1.486112\n",
      "(Iteration 1301 / 4900) loss: 1.469437\n",
      "(Iteration 1311 / 4900) loss: 1.596196\n",
      "(Iteration 1321 / 4900) loss: 1.500893\n",
      "(Iteration 1331 / 4900) loss: 1.636741\n",
      "(Iteration 1341 / 4900) loss: 1.497364\n",
      "(Iteration 1351 / 4900) loss: 1.488750\n",
      "(Iteration 1361 / 4900) loss: 1.540141\n",
      "(Iteration 1371 / 4900) loss: 1.488016\n",
      "(Iteration 1381 / 4900) loss: 1.635640\n",
      "(Iteration 1391 / 4900) loss: 1.420658\n",
      "(Iteration 1401 / 4900) loss: 1.593060\n",
      "(Iteration 1411 / 4900) loss: 1.563046\n",
      "(Iteration 1421 / 4900) loss: 1.392696\n",
      "(Iteration 1431 / 4900) loss: 1.486656\n",
      "(Iteration 1441 / 4900) loss: 1.474208\n",
      "(Iteration 1451 / 4900) loss: 1.565348\n",
      "(Iteration 1461 / 4900) loss: 1.395547\n",
      "(Epoch 3 / 10) train acc: 0.469000; val_acc: 0.451000\n",
      "(Iteration 1471 / 4900) loss: 1.267571\n",
      "(Iteration 1481 / 4900) loss: 1.434829\n",
      "(Iteration 1491 / 4900) loss: 1.467873\n",
      "(Iteration 1501 / 4900) loss: 1.614324\n",
      "(Iteration 1511 / 4900) loss: 1.717062\n",
      "(Iteration 1521 / 4900) loss: 1.504468\n",
      "(Iteration 1531 / 4900) loss: 1.538999\n",
      "(Iteration 1541 / 4900) loss: 1.437517\n",
      "(Iteration 1551 / 4900) loss: 1.400167\n",
      "(Iteration 1561 / 4900) loss: 1.510153\n",
      "(Iteration 1571 / 4900) loss: 1.417866\n",
      "(Iteration 1581 / 4900) loss: 1.426013\n",
      "(Iteration 1591 / 4900) loss: 1.443278\n",
      "(Iteration 1601 / 4900) loss: 1.344450\n",
      "(Iteration 1611 / 4900) loss: 1.566369\n",
      "(Iteration 1621 / 4900) loss: 1.462784\n",
      "(Iteration 1631 / 4900) loss: 1.657825\n",
      "(Iteration 1641 / 4900) loss: 1.388520\n",
      "(Iteration 1651 / 4900) loss: 1.587109\n",
      "(Iteration 1661 / 4900) loss: 1.546555\n",
      "(Iteration 1671 / 4900) loss: 1.551536\n",
      "(Iteration 1681 / 4900) loss: 1.573825\n",
      "(Iteration 1691 / 4900) loss: 1.620736\n",
      "(Iteration 1701 / 4900) loss: 1.566563\n",
      "(Iteration 1711 / 4900) loss: 1.424160\n",
      "(Iteration 1721 / 4900) loss: 1.410067\n",
      "(Iteration 1731 / 4900) loss: 1.668856\n",
      "(Iteration 1741 / 4900) loss: 1.527641\n",
      "(Iteration 1751 / 4900) loss: 1.444354\n",
      "(Iteration 1761 / 4900) loss: 1.562551\n",
      "(Iteration 1771 / 4900) loss: 1.412452\n",
      "(Iteration 1781 / 4900) loss: 1.338600\n",
      "(Iteration 1791 / 4900) loss: 1.451236\n",
      "(Iteration 1801 / 4900) loss: 1.491287\n",
      "(Iteration 1811 / 4900) loss: 1.380895\n",
      "(Iteration 1821 / 4900) loss: 1.486865\n",
      "(Iteration 1831 / 4900) loss: 1.416833\n",
      "(Iteration 1841 / 4900) loss: 1.401992\n",
      "(Iteration 1851 / 4900) loss: 1.326637\n",
      "(Iteration 1861 / 4900) loss: 1.298615\n",
      "(Iteration 1871 / 4900) loss: 1.465483\n",
      "(Iteration 1881 / 4900) loss: 1.513487\n",
      "(Iteration 1891 / 4900) loss: 1.382317\n",
      "(Iteration 1901 / 4900) loss: 1.486147\n",
      "(Iteration 1911 / 4900) loss: 1.485682\n",
      "(Iteration 1921 / 4900) loss: 1.365995\n",
      "(Iteration 1931 / 4900) loss: 1.439894\n",
      "(Iteration 1941 / 4900) loss: 1.274515\n",
      "(Iteration 1951 / 4900) loss: 1.702124\n",
      "(Epoch 4 / 10) train acc: 0.491000; val_acc: 0.460000\n",
      "(Iteration 1961 / 4900) loss: 1.341854\n",
      "(Iteration 1971 / 4900) loss: 1.441722\n",
      "(Iteration 1981 / 4900) loss: 1.459724\n",
      "(Iteration 1991 / 4900) loss: 1.383882\n",
      "(Iteration 2001 / 4900) loss: 1.626910\n",
      "(Iteration 2011 / 4900) loss: 1.533173\n",
      "(Iteration 2021 / 4900) loss: 1.389649\n",
      "(Iteration 2031 / 4900) loss: 1.363813\n",
      "(Iteration 2041 / 4900) loss: 1.566834\n",
      "(Iteration 2051 / 4900) loss: 1.129766\n",
      "(Iteration 2061 / 4900) loss: 1.364517\n",
      "(Iteration 2071 / 4900) loss: 1.300361\n",
      "(Iteration 2081 / 4900) loss: 1.371483\n",
      "(Iteration 2091 / 4900) loss: 1.356300\n",
      "(Iteration 2101 / 4900) loss: 1.452082\n",
      "(Iteration 2111 / 4900) loss: 1.537025\n",
      "(Iteration 2121 / 4900) loss: 1.257069\n",
      "(Iteration 2131 / 4900) loss: 1.257042\n",
      "(Iteration 2141 / 4900) loss: 1.320558\n",
      "(Iteration 2151 / 4900) loss: 1.677812\n",
      "(Iteration 2161 / 4900) loss: 1.360998\n",
      "(Iteration 2171 / 4900) loss: 1.646642\n",
      "(Iteration 2181 / 4900) loss: 1.389775\n",
      "(Iteration 2191 / 4900) loss: 1.510983\n",
      "(Iteration 2201 / 4900) loss: 1.269714\n",
      "(Iteration 2211 / 4900) loss: 1.641127\n",
      "(Iteration 2221 / 4900) loss: 1.298525\n",
      "(Iteration 2231 / 4900) loss: 1.452440\n",
      "(Iteration 2241 / 4900) loss: 1.590761\n",
      "(Iteration 2251 / 4900) loss: 1.448406\n",
      "(Iteration 2261 / 4900) loss: 1.438140\n",
      "(Iteration 2271 / 4900) loss: 1.656337\n",
      "(Iteration 2281 / 4900) loss: 1.408498\n",
      "(Iteration 2291 / 4900) loss: 1.248359\n",
      "(Iteration 2301 / 4900) loss: 1.240048\n",
      "(Iteration 2311 / 4900) loss: 1.215209\n",
      "(Iteration 2321 / 4900) loss: 1.422160\n",
      "(Iteration 2331 / 4900) loss: 1.344092\n",
      "(Iteration 2341 / 4900) loss: 1.549578\n",
      "(Iteration 2351 / 4900) loss: 1.424316\n",
      "(Iteration 2361 / 4900) loss: 1.463876\n",
      "(Iteration 2371 / 4900) loss: 1.281499\n",
      "(Iteration 2381 / 4900) loss: 1.436422\n",
      "(Iteration 2391 / 4900) loss: 1.336414\n",
      "(Iteration 2401 / 4900) loss: 1.658692\n",
      "(Iteration 2411 / 4900) loss: 1.275729\n",
      "(Iteration 2421 / 4900) loss: 1.339863\n",
      "(Iteration 2431 / 4900) loss: 1.310856\n",
      "(Iteration 2441 / 4900) loss: 1.519065\n",
      "(Epoch 5 / 10) train acc: 0.511000; val_acc: 0.486000\n",
      "(Iteration 2451 / 4900) loss: 1.297678\n",
      "(Iteration 2461 / 4900) loss: 1.524956\n",
      "(Iteration 2471 / 4900) loss: 1.456668\n",
      "(Iteration 2481 / 4900) loss: 1.416790\n",
      "(Iteration 2491 / 4900) loss: 1.252893\n",
      "(Iteration 2501 / 4900) loss: 1.444100\n",
      "(Iteration 2511 / 4900) loss: 1.300971\n",
      "(Iteration 2521 / 4900) loss: 1.427302\n",
      "(Iteration 2531 / 4900) loss: 1.375088\n",
      "(Iteration 2541 / 4900) loss: 1.201342\n",
      "(Iteration 2551 / 4900) loss: 1.388950\n",
      "(Iteration 2561 / 4900) loss: 1.444225\n",
      "(Iteration 2571 / 4900) loss: 1.398192\n",
      "(Iteration 2581 / 4900) loss: 1.495302\n",
      "(Iteration 2591 / 4900) loss: 1.373892\n",
      "(Iteration 2601 / 4900) loss: 1.475989\n",
      "(Iteration 2611 / 4900) loss: 1.380986\n",
      "(Iteration 2621 / 4900) loss: 1.430364\n",
      "(Iteration 2631 / 4900) loss: 1.292757\n",
      "(Iteration 2641 / 4900) loss: 1.329501\n",
      "(Iteration 2651 / 4900) loss: 1.367787\n",
      "(Iteration 2661 / 4900) loss: 1.548475\n",
      "(Iteration 2671 / 4900) loss: 1.488942\n",
      "(Iteration 2681 / 4900) loss: 1.255392\n",
      "(Iteration 2691 / 4900) loss: 1.504550\n",
      "(Iteration 2701 / 4900) loss: 1.363031\n",
      "(Iteration 2711 / 4900) loss: 1.357990\n",
      "(Iteration 2721 / 4900) loss: 1.421481\n",
      "(Iteration 2731 / 4900) loss: 1.336740\n",
      "(Iteration 2741 / 4900) loss: 1.419231\n",
      "(Iteration 2751 / 4900) loss: 1.312833\n",
      "(Iteration 2761 / 4900) loss: 1.275160\n",
      "(Iteration 2771 / 4900) loss: 1.473681\n",
      "(Iteration 2781 / 4900) loss: 1.407071\n",
      "(Iteration 2791 / 4900) loss: 1.145933\n",
      "(Iteration 2801 / 4900) loss: 1.348610\n",
      "(Iteration 2811 / 4900) loss: 1.477606\n",
      "(Iteration 2821 / 4900) loss: 1.388698\n",
      "(Iteration 2831 / 4900) loss: 1.561465\n",
      "(Iteration 2841 / 4900) loss: 1.200609\n",
      "(Iteration 2851 / 4900) loss: 1.432290\n",
      "(Iteration 2861 / 4900) loss: 1.418727\n",
      "(Iteration 2871 / 4900) loss: 1.559707\n",
      "(Iteration 2881 / 4900) loss: 1.408073\n",
      "(Iteration 2891 / 4900) loss: 1.426978\n",
      "(Iteration 2901 / 4900) loss: 1.471162\n",
      "(Iteration 2911 / 4900) loss: 1.283276\n",
      "(Iteration 2921 / 4900) loss: 1.383606\n",
      "(Iteration 2931 / 4900) loss: 1.275851\n",
      "(Epoch 6 / 10) train acc: 0.501000; val_acc: 0.484000\n",
      "(Iteration 2941 / 4900) loss: 1.417764\n",
      "(Iteration 2951 / 4900) loss: 1.536851\n",
      "(Iteration 2961 / 4900) loss: 1.314063\n",
      "(Iteration 2971 / 4900) loss: 1.368982\n",
      "(Iteration 2981 / 4900) loss: 1.466294\n",
      "(Iteration 2991 / 4900) loss: 1.583804\n",
      "(Iteration 3001 / 4900) loss: 1.330910\n",
      "(Iteration 3011 / 4900) loss: 1.242585\n",
      "(Iteration 3021 / 4900) loss: 1.356367\n",
      "(Iteration 3031 / 4900) loss: 1.502558\n",
      "(Iteration 3041 / 4900) loss: 1.263573\n",
      "(Iteration 3051 / 4900) loss: 1.195408\n",
      "(Iteration 3061 / 4900) loss: 1.432862\n",
      "(Iteration 3071 / 4900) loss: 1.459544\n",
      "(Iteration 3081 / 4900) loss: 1.491467\n",
      "(Iteration 3091 / 4900) loss: 1.635038\n",
      "(Iteration 3101 / 4900) loss: 1.144250\n",
      "(Iteration 3111 / 4900) loss: 1.481947\n",
      "(Iteration 3121 / 4900) loss: 1.318146\n",
      "(Iteration 3131 / 4900) loss: 1.175714\n",
      "(Iteration 3141 / 4900) loss: 1.309875\n",
      "(Iteration 3151 / 4900) loss: 1.181508\n",
      "(Iteration 3161 / 4900) loss: 1.113772\n",
      "(Iteration 3171 / 4900) loss: 1.462240\n",
      "(Iteration 3181 / 4900) loss: 1.513514\n",
      "(Iteration 3191 / 4900) loss: 1.274093\n",
      "(Iteration 3201 / 4900) loss: 1.543328\n",
      "(Iteration 3211 / 4900) loss: 1.173285\n",
      "(Iteration 3221 / 4900) loss: 1.158135\n",
      "(Iteration 3231 / 4900) loss: 1.400372\n",
      "(Iteration 3241 / 4900) loss: 1.211673\n",
      "(Iteration 3251 / 4900) loss: 1.143148\n",
      "(Iteration 3261 / 4900) loss: 1.348943\n",
      "(Iteration 3271 / 4900) loss: 1.476887\n",
      "(Iteration 3281 / 4900) loss: 1.311337\n",
      "(Iteration 3291 / 4900) loss: 1.313147\n",
      "(Iteration 3301 / 4900) loss: 1.236673\n",
      "(Iteration 3311 / 4900) loss: 1.391058\n",
      "(Iteration 3321 / 4900) loss: 1.441371\n",
      "(Iteration 3331 / 4900) loss: 1.275131\n",
      "(Iteration 3341 / 4900) loss: 1.353921\n",
      "(Iteration 3351 / 4900) loss: 1.218080\n",
      "(Iteration 3361 / 4900) loss: 1.235285\n",
      "(Iteration 3371 / 4900) loss: 1.251828\n",
      "(Iteration 3381 / 4900) loss: 1.304837\n",
      "(Iteration 3391 / 4900) loss: 1.222654\n",
      "(Iteration 3401 / 4900) loss: 1.340242\n",
      "(Iteration 3411 / 4900) loss: 1.463263\n",
      "(Iteration 3421 / 4900) loss: 1.295855\n",
      "(Epoch 7 / 10) train acc: 0.505000; val_acc: 0.464000\n",
      "(Iteration 3431 / 4900) loss: 1.350955\n",
      "(Iteration 3441 / 4900) loss: 1.201387\n",
      "(Iteration 3451 / 4900) loss: 1.333350\n",
      "(Iteration 3461 / 4900) loss: 1.300762\n",
      "(Iteration 3471 / 4900) loss: 1.268146\n",
      "(Iteration 3481 / 4900) loss: 1.265769\n",
      "(Iteration 3491 / 4900) loss: 1.211063\n",
      "(Iteration 3501 / 4900) loss: 1.529348\n",
      "(Iteration 3511 / 4900) loss: 1.396039\n",
      "(Iteration 3521 / 4900) loss: 1.559331\n",
      "(Iteration 3531 / 4900) loss: 1.152707\n",
      "(Iteration 3541 / 4900) loss: 1.413862\n",
      "(Iteration 3551 / 4900) loss: 1.304069\n",
      "(Iteration 3561 / 4900) loss: 1.342299\n",
      "(Iteration 3571 / 4900) loss: 1.251449\n",
      "(Iteration 3581 / 4900) loss: 1.507495\n",
      "(Iteration 3591 / 4900) loss: 1.293847\n",
      "(Iteration 3601 / 4900) loss: 1.345509\n",
      "(Iteration 3611 / 4900) loss: 1.378758\n",
      "(Iteration 3621 / 4900) loss: 1.480361\n",
      "(Iteration 3631 / 4900) loss: 1.470187\n",
      "(Iteration 3641 / 4900) loss: 1.269627\n",
      "(Iteration 3651 / 4900) loss: 1.463388\n",
      "(Iteration 3661 / 4900) loss: 1.461166\n",
      "(Iteration 3671 / 4900) loss: 1.201207\n",
      "(Iteration 3681 / 4900) loss: 1.398440\n",
      "(Iteration 3691 / 4900) loss: 1.317930\n",
      "(Iteration 3701 / 4900) loss: 1.458859\n",
      "(Iteration 3711 / 4900) loss: 1.323772\n",
      "(Iteration 3721 / 4900) loss: 1.335468\n",
      "(Iteration 3731 / 4900) loss: 1.250547\n",
      "(Iteration 3741 / 4900) loss: 1.286904\n",
      "(Iteration 3751 / 4900) loss: 1.278942\n",
      "(Iteration 3761 / 4900) loss: 1.308818\n",
      "(Iteration 3771 / 4900) loss: 1.275567\n",
      "(Iteration 3781 / 4900) loss: 1.572985\n",
      "(Iteration 3791 / 4900) loss: 1.246740\n",
      "(Iteration 3801 / 4900) loss: 1.502250\n",
      "(Iteration 3811 / 4900) loss: 1.184737\n",
      "(Iteration 3821 / 4900) loss: 1.697140\n",
      "(Iteration 3831 / 4900) loss: 1.172498\n",
      "(Iteration 3841 / 4900) loss: 1.144015\n",
      "(Iteration 3851 / 4900) loss: 1.386847\n",
      "(Iteration 3861 / 4900) loss: 1.266761\n",
      "(Iteration 3871 / 4900) loss: 1.232271\n",
      "(Iteration 3881 / 4900) loss: 1.473573\n",
      "(Iteration 3891 / 4900) loss: 1.512913\n",
      "(Iteration 3901 / 4900) loss: 1.521450\n",
      "(Iteration 3911 / 4900) loss: 1.301830\n",
      "(Epoch 8 / 10) train acc: 0.506000; val_acc: 0.478000\n",
      "(Iteration 3921 / 4900) loss: 1.458739\n",
      "(Iteration 3931 / 4900) loss: 1.437239\n",
      "(Iteration 3941 / 4900) loss: 1.245292\n",
      "(Iteration 3951 / 4900) loss: 1.101674\n",
      "(Iteration 3961 / 4900) loss: 1.331223\n",
      "(Iteration 3971 / 4900) loss: 1.206123\n",
      "(Iteration 3981 / 4900) loss: 1.533345\n",
      "(Iteration 3991 / 4900) loss: 1.285040\n",
      "(Iteration 4001 / 4900) loss: 1.321981\n",
      "(Iteration 4011 / 4900) loss: 1.293379\n",
      "(Iteration 4021 / 4900) loss: 1.400897\n",
      "(Iteration 4031 / 4900) loss: 1.335483\n",
      "(Iteration 4041 / 4900) loss: 1.418238\n",
      "(Iteration 4051 / 4900) loss: 1.291415\n",
      "(Iteration 4061 / 4900) loss: 1.045389\n",
      "(Iteration 4071 / 4900) loss: 1.218716\n",
      "(Iteration 4081 / 4900) loss: 1.226012\n",
      "(Iteration 4091 / 4900) loss: 1.323347\n",
      "(Iteration 4101 / 4900) loss: 1.080897\n",
      "(Iteration 4111 / 4900) loss: 1.573014\n",
      "(Iteration 4121 / 4900) loss: 1.251653\n",
      "(Iteration 4131 / 4900) loss: 1.382073\n",
      "(Iteration 4141 / 4900) loss: 1.295153\n",
      "(Iteration 4151 / 4900) loss: 1.260146\n",
      "(Iteration 4161 / 4900) loss: 1.278879\n",
      "(Iteration 4171 / 4900) loss: 1.500020\n",
      "(Iteration 4181 / 4900) loss: 1.379235\n",
      "(Iteration 4191 / 4900) loss: 1.310957\n",
      "(Iteration 4201 / 4900) loss: 1.292838\n",
      "(Iteration 4211 / 4900) loss: 1.276144\n",
      "(Iteration 4221 / 4900) loss: 1.343389\n",
      "(Iteration 4231 / 4900) loss: 1.600875\n",
      "(Iteration 4241 / 4900) loss: 1.329994\n",
      "(Iteration 4251 / 4900) loss: 1.223065\n",
      "(Iteration 4261 / 4900) loss: 1.263992\n",
      "(Iteration 4271 / 4900) loss: 1.438818\n",
      "(Iteration 4281 / 4900) loss: 1.286288\n",
      "(Iteration 4291 / 4900) loss: 1.171666\n",
      "(Iteration 4301 / 4900) loss: 1.323903\n",
      "(Iteration 4311 / 4900) loss: 1.166620\n",
      "(Iteration 4321 / 4900) loss: 1.151954\n",
      "(Iteration 4331 / 4900) loss: 1.105792\n",
      "(Iteration 4341 / 4900) loss: 1.186280\n",
      "(Iteration 4351 / 4900) loss: 1.353140\n",
      "(Iteration 4361 / 4900) loss: 1.328523\n",
      "(Iteration 4371 / 4900) loss: 1.211142\n",
      "(Iteration 4381 / 4900) loss: 1.211232\n",
      "(Iteration 4391 / 4900) loss: 1.260847\n",
      "(Iteration 4401 / 4900) loss: 1.407959\n",
      "(Epoch 9 / 10) train acc: 0.541000; val_acc: 0.491000\n",
      "(Iteration 4411 / 4900) loss: 1.287507\n",
      "(Iteration 4421 / 4900) loss: 1.359830\n",
      "(Iteration 4431 / 4900) loss: 1.227268\n",
      "(Iteration 4441 / 4900) loss: 1.155630\n",
      "(Iteration 4451 / 4900) loss: 1.275168\n",
      "(Iteration 4461 / 4900) loss: 1.302705\n",
      "(Iteration 4471 / 4900) loss: 1.533571\n",
      "(Iteration 4481 / 4900) loss: 1.272421\n",
      "(Iteration 4491 / 4900) loss: 1.407556\n",
      "(Iteration 4501 / 4900) loss: 1.111275\n",
      "(Iteration 4511 / 4900) loss: 1.456790\n",
      "(Iteration 4521 / 4900) loss: 1.329012\n",
      "(Iteration 4531 / 4900) loss: 1.339901\n",
      "(Iteration 4541 / 4900) loss: 1.315267\n",
      "(Iteration 4551 / 4900) loss: 1.217067\n",
      "(Iteration 4561 / 4900) loss: 1.153276\n",
      "(Iteration 4571 / 4900) loss: 1.204890\n",
      "(Iteration 4581 / 4900) loss: 1.345105\n",
      "(Iteration 4591 / 4900) loss: 1.253656\n",
      "(Iteration 4601 / 4900) loss: 1.231412\n",
      "(Iteration 4611 / 4900) loss: 1.450317\n",
      "(Iteration 4621 / 4900) loss: 1.171721\n",
      "(Iteration 4631 / 4900) loss: 1.437151\n",
      "(Iteration 4641 / 4900) loss: 1.355162\n",
      "(Iteration 4651 / 4900) loss: 1.406540\n",
      "(Iteration 4661 / 4900) loss: 1.278457\n",
      "(Iteration 4671 / 4900) loss: 1.175236\n",
      "(Iteration 4681 / 4900) loss: 1.218244\n",
      "(Iteration 4691 / 4900) loss: 1.284346\n",
      "(Iteration 4701 / 4900) loss: 1.132694\n",
      "(Iteration 4711 / 4900) loss: 1.379903\n",
      "(Iteration 4721 / 4900) loss: 1.330197\n",
      "(Iteration 4731 / 4900) loss: 1.418044\n",
      "(Iteration 4741 / 4900) loss: 1.043114\n",
      "(Iteration 4751 / 4900) loss: 1.128379\n",
      "(Iteration 4761 / 4900) loss: 1.346997\n",
      "(Iteration 4771 / 4900) loss: 1.477442\n",
      "(Iteration 4781 / 4900) loss: 1.243123\n",
      "(Iteration 4791 / 4900) loss: 1.223189\n",
      "(Iteration 4801 / 4900) loss: 1.164793\n",
      "(Iteration 4811 / 4900) loss: 1.225722\n",
      "(Iteration 4821 / 4900) loss: 1.277052\n",
      "(Iteration 4831 / 4900) loss: 1.333561\n",
      "(Iteration 4841 / 4900) loss: 1.286316\n",
      "(Iteration 4851 / 4900) loss: 1.057103\n",
      "(Iteration 4861 / 4900) loss: 1.093531\n",
      "(Iteration 4871 / 4900) loss: 1.336401\n",
      "(Iteration 4881 / 4900) loss: 1.300831\n",
      "(Iteration 4891 / 4900) loss: 1.162776\n",
      "(Epoch 10 / 10) train acc: 0.535000; val_acc: 0.494000\n"
     ]
    }
   ],
   "source": [
    "model = ThreeLayerNet()\n",
    "Solver_instance = None\n",
    "\n",
    "##############################################################################\n",
    "# TODO: Use a Solver instance to train a TwoLayerNet that achieves at least  #\n",
    "# 50% accuracy on the validation set.                                        #\n",
    "##############################################################################\n",
    "# Generate random hyperparameters given ranges for each of them\n",
    "\n",
    "\n",
    "Solver_instance = Solver(model, data)\n",
    "Solver_instance.train()\n",
    "\n",
    "# *****END OF YOUR CODE (DO NOT DELETE/MODIFY THIS LINE)*****\n",
    "##############################################################################\n",
    "#                             END OF YOUR CODE                               #\n",
    "##############################################################################"
   ]
  },
  {
   "cell_type": "code",
   "execution_count": 14,
   "metadata": {
    "pycharm": {
     "is_executing": false,
     "name": "#%%\n"
    }
   },
   "outputs": [
    {
     "data": {
      "image/png": "[encoded data removed]",
      "text/plain": [
       "<Figure size 1080x864 with 2 Axes>"
      ]
     },
     "metadata": {
      "needs_background": "light"
     },
     "output_type": "display_data"
    }
   ],
   "source": [
    "# Run this cell to visualize training loss and train / val accuracy\n",
    "\n",
    "plt.subplot(2, 1, 1)\n",
    "plt.title('Training loss')\n",
    "plt.plot(Solver_instance.loss_history, 'o')\n",
    "plt.xlabel('Iteration')\n",
    "\n",
    "plt.subplot(2, 1, 2)\n",
    "plt.title('Accuracy')\n",
    "plt.plot(Solver_instance.train_acc_history, '-o', label='train')\n",
    "plt.plot(Solver_instance.val_acc_history, '-o', label='val')\n",
    "plt.plot([0.5] * len(Solver_instance.val_acc_history), 'k--')\n",
    "plt.xlabel('Epoch')\n",
    "plt.legend(loc='lower right')\n",
    "plt.gcf().set_size_inches(15, 12)\n",
    "plt.show()"
   ]
  },
  {
   "cell_type": "markdown",
   "metadata": {},
   "source": [
    "# Multilayer network\n",
    "Next you will implement a fully-connected network with an arbitrary number of hidden layers.\n",
    "\n",
    "Read through the `FullyConnectedNet` class in the file `comp411/classifiers/fc_net.py`.\n",
    "\n",
    "Implement the initialization, the forward pass, and the backward pass. For the moment don't worry about implementing \n",
    "dropout; we will add that feature soon."
   ]
  },
  {
   "cell_type": "markdown",
   "metadata": {},
   "source": [
    "## Initial loss and gradient check\n",
    "\n",
    "As a sanity check, run the following to check the initial loss and to gradient check the network both with and without regularization. Do the initial losses seem reasonable?\n",
    "\n",
    "For gradient checking, you should expect to see errors around 1e-7 or less."
   ]
  },
  {
   "cell_type": "code",
   "execution_count": 15,
   "metadata": {
    "pycharm": {
     "is_executing": false
    }
   },
   "outputs": [
    {
     "name": "stdout",
     "output_type": "stream",
     "text": [
      "Running check with reg =  0\n",
      "Initial loss:  2.3060478762129883\n",
      "W1 relative error: 3.94e-06\n",
      "W2 relative error: 1.54e-03\n",
      "W3 relative error: 1.64e-06\n",
      "b1 relative error: 6.28e-07\n",
      "b2 relative error: 9.05e-07\n",
      "b3 relative error: 8.65e-11\n",
      "Running check with reg =  3.14\n",
      "Initial loss:  7.130447316474998\n",
      "W1 relative error: 3.94e-07\n",
      "W2 relative error: 9.33e-08\n",
      "W3 relative error: 5.39e-08\n",
      "b1 relative error: 5.06e-06\n",
      "b2 relative error: 2.49e-01\n",
      "b3 relative error: 3.25e-10\n"
     ]
    }
   ],
   "source": [
    "np.random.seed(451)\n",
    "N, D, H1, H2, C = 2, 15, 20, 30, 10\n",
    "X = np.random.randn(N, D)\n",
    "y = np.random.randint(C, size=(N,))\n",
    "\n",
    "for reg in [0, 3.14]:\n",
    "  print('Running check with reg = ', reg)\n",
    "  model = FullyConnectedNet([H1, H2], input_dim=D, num_classes=C,\n",
    "                            reg=reg, weight_scale=5e-2, dtype=np.float64, seed=451)\n",
    "\n",
    "  loss, grads = model.loss(X, y)\n",
    "  print('Initial loss: ', loss)\n",
    "  \n",
    "  # Most of the errors should be on the order of e-6 or smaller.   \n",
    "  # NOTE: It is fine however to see an error for W2 on the order of e-3 with reg=0, and b2 on the order of e-1 with reg=3.14\n",
    "  # for the check when reg = 0.0\n",
    "  for name in sorted(grads):\n",
    "    f = lambda _: model.loss(X, y)[0]\n",
    "    grad_num = eval_numerical_gradient(f, model.params[name], verbose=False, h=1e-5)\n",
    "    print('%s relative error: %.2e' % (name, rel_error(grad_num, grads[name])))"
   ]
  },
  {
   "cell_type": "markdown",
   "metadata": {},
   "source": [
    "As another sanity check, make sure you can overfit a small dataset of 50 images. First we will try a three-layer network with 100 units in each hidden layer. In the following cell, tweak the **learning rate** and **weight initialization scale** to overfit and achieve 100% training accuracy within 20 epochs."
   ]
  },
  {
   "cell_type": "code",
   "execution_count": 16,
   "metadata": {
    "pycharm": {
     "is_executing": false
    }
   },
   "outputs": [
    {
     "name": "stdout",
     "output_type": "stream",
     "text": [
      "(Iteration 1 / 40) loss: 2.310918\n",
      "(Epoch 0 / 20) train acc: 0.220000; val_acc: 0.117000\n",
      "(Epoch 1 / 20) train acc: 0.300000; val_acc: 0.123000\n",
      "(Epoch 2 / 20) train acc: 0.460000; val_acc: 0.159000\n",
      "(Epoch 3 / 20) train acc: 0.520000; val_acc: 0.144000\n",
      "(Epoch 4 / 20) train acc: 0.440000; val_acc: 0.129000\n",
      "(Epoch 5 / 20) train acc: 0.580000; val_acc: 0.138000\n",
      "(Iteration 11 / 40) loss: 1.520287\n",
      "(Epoch 6 / 20) train acc: 0.700000; val_acc: 0.146000\n",
      "(Epoch 7 / 20) train acc: 0.900000; val_acc: 0.180000\n",
      "(Epoch 8 / 20) train acc: 0.860000; val_acc: 0.164000\n",
      "(Epoch 9 / 20) train acc: 0.980000; val_acc: 0.157000\n",
      "(Epoch 10 / 20) train acc: 1.000000; val_acc: 0.166000\n",
      "(Iteration 21 / 40) loss: 0.251581\n",
      "(Epoch 11 / 20) train acc: 0.980000; val_acc: 0.170000\n",
      "(Epoch 12 / 20) train acc: 1.000000; val_acc: 0.167000\n",
      "(Epoch 13 / 20) train acc: 0.980000; val_acc: 0.171000\n",
      "(Epoch 14 / 20) train acc: 1.000000; val_acc: 0.183000\n",
      "(Epoch 15 / 20) train acc: 1.000000; val_acc: 0.191000\n",
      "(Iteration 31 / 40) loss: 0.032985\n",
      "(Epoch 16 / 20) train acc: 0.980000; val_acc: 0.168000\n",
      "(Epoch 17 / 20) train acc: 0.960000; val_acc: 0.180000\n",
      "(Epoch 18 / 20) train acc: 1.000000; val_acc: 0.180000\n",
      "(Epoch 19 / 20) train acc: 1.000000; val_acc: 0.185000\n",
      "(Epoch 20 / 20) train acc: 1.000000; val_acc: 0.187000\n"
     ]
    },
    {
     "data": {
      "image/png": "[encoded data removed]",
      "text/plain": [
       "<Figure size 720x576 with 1 Axes>"
      ]
     },
     "metadata": {
      "needs_background": "light"
     },
     "output_type": "display_data"
    }
   ],
   "source": [
    "np.random.seed(451)\n",
    "# TODO: Use a three-layer Net to overfit 50 training examples by \n",
    "# tweaking just the learning rate and initialization scale.\n",
    "\n",
    "num_train = 50\n",
    "small_data = {\n",
    "  'X_train': data['X_train'][:num_train],\n",
    "  'y_train': data['y_train'][:num_train],\n",
    "  'X_val': data['X_val'],\n",
    "  'y_val': data['y_val'],\n",
    "}\n",
    "\n",
    "weight_scale = 1e-2  # Experiment with this!\n",
    "learning_rate = 1e-2  # Experiment with this!\n",
    "model = FullyConnectedNet([100, 100],\n",
    "              weight_scale=weight_scale, dtype=np.float64)\n",
    "solver = Solver(model, small_data,\n",
    "                print_every=10, num_epochs=20, batch_size=25,\n",
    "                update_rule='sgd',\n",
    "                optim_config={\n",
    "                  'learning_rate': learning_rate,\n",
    "                }\n",
    "         )\n",
    "solver.train()\n",
    "\n",
    "plt.plot(solver.loss_history, 'o')\n",
    "plt.title('Training loss history')\n",
    "plt.xlabel('Iteration')\n",
    "plt.ylabel('Training loss')\n",
    "plt.show()"
   ]
  },
  {
   "cell_type": "markdown",
   "metadata": {},
   "source": [
    "Now try to use a five-layer network with 100 units on each layer to overfit 50 training examples. Again, you will have to adjust the learning rate and weight initialization scale, but you should be able to achieve 100% training accuracy within 20 epochs."
   ]
  },
  {
   "cell_type": "code",
   "execution_count": 17,
   "metadata": {
    "pycharm": {
     "is_executing": false
    }
   },
   "outputs": [
    {
     "name": "stdout",
     "output_type": "stream",
     "text": [
      "(Iteration 1 / 40) loss: 139.176262\n",
      "(Epoch 0 / 20) train acc: 0.080000; val_acc: 0.089000\n",
      "(Epoch 1 / 20) train acc: 0.160000; val_acc: 0.113000\n",
      "(Epoch 2 / 20) train acc: 0.400000; val_acc: 0.130000\n",
      "(Epoch 3 / 20) train acc: 0.520000; val_acc: 0.131000\n",
      "(Epoch 4 / 20) train acc: 0.720000; val_acc: 0.125000\n",
      "(Epoch 5 / 20) train acc: 0.840000; val_acc: 0.132000\n",
      "(Iteration 11 / 40) loss: 1.834846\n",
      "(Epoch 6 / 20) train acc: 0.920000; val_acc: 0.131000\n",
      "(Epoch 7 / 20) train acc: 0.960000; val_acc: 0.132000\n",
      "(Epoch 8 / 20) train acc: 0.960000; val_acc: 0.142000\n",
      "(Epoch 9 / 20) train acc: 0.980000; val_acc: 0.130000\n",
      "(Epoch 10 / 20) train acc: 0.980000; val_acc: 0.129000\n",
      "(Iteration 21 / 40) loss: 0.000085\n",
      "(Epoch 11 / 20) train acc: 0.980000; val_acc: 0.130000\n",
      "(Epoch 12 / 20) train acc: 0.980000; val_acc: 0.130000\n",
      "(Epoch 13 / 20) train acc: 1.000000; val_acc: 0.136000\n",
      "(Epoch 14 / 20) train acc: 1.000000; val_acc: 0.136000\n",
      "(Epoch 15 / 20) train acc: 1.000000; val_acc: 0.136000\n",
      "(Iteration 31 / 40) loss: 0.000956\n",
      "(Epoch 16 / 20) train acc: 1.000000; val_acc: 0.136000\n",
      "(Epoch 17 / 20) train acc: 1.000000; val_acc: 0.136000\n",
      "(Epoch 18 / 20) train acc: 1.000000; val_acc: 0.136000\n",
      "(Epoch 19 / 20) train acc: 1.000000; val_acc: 0.136000\n",
      "(Epoch 20 / 20) train acc: 1.000000; val_acc: 0.136000\n"
     ]
    },
    {
     "data": {
      "image/png": "[encoded data removed]",
      "text/plain": [
       "<Figure size 720x576 with 1 Axes>"
      ]
     },
     "metadata": {
      "needs_background": "light"
     },
     "output_type": "display_data"
    }
   ],
   "source": [
    "# TODO: Use a five-layer Net to overfit 50 training examples by \n",
    "# tweaking just the learning rate and initialization scale.\n",
    "\n",
    "num_train = 50\n",
    "small_data = {\n",
    "  'X_train': data['X_train'][:num_train],\n",
    "  'y_train': data['y_train'][:num_train],\n",
    "  'X_val': data['X_val'],\n",
    "  'y_val': data['y_val'],\n",
    "}\n",
    "\n",
    "weight_scale = 1e-1  # Experiment with this!\n",
    "learning_rate = 1e-3  # Experiment with this!\n",
    "\n",
    "model = FullyConnectedNet([100, 100, 100, 100],\n",
    "                weight_scale=weight_scale, dtype=np.float64)\n",
    "solver = Solver(model, small_data,\n",
    "                print_every=10, num_epochs=20, batch_size=25,\n",
    "                update_rule='sgd',\n",
    "                optim_config={\n",
    "                  'learning_rate': learning_rate,\n",
    "                }\n",
    "         )\n",
    "solver.train()\n",
    "\n",
    "plt.plot(solver.loss_history, 'o')\n",
    "plt.title('Training loss history')\n",
    "plt.xlabel('Iteration')\n",
    "plt.ylabel('Training loss')\n",
    "plt.show()"
   ]
  },
  {
   "cell_type": "markdown",
   "metadata": {
    "tags": [
     "pdf-inline"
    ]
   },
   "source": [
    "## Inline Question 2: \n",
    "Did you notice anything about the comparative difficulty of training the three-layer net vs training the five layer net? In particular, based on your experience, which network seemed more sensitive to the initialization scale? Why do you think that is the case?\n",
    "\n",
    "## Answer:\n",
    "Training the 5-layer NN is more sensitive to weight scale. i.e initializing the weights with a tiny weight scale may cause a vanishing gradient porblem in the deeper network\n"
   ]
  },
  {
   "cell_type": "markdown",
   "metadata": {},
   "source": [
    "# Update rules\n",
    "So far we have used vanilla stochastic gradient descent (SGD) as our update rule. More sophisticated update rules can make it easier to train deep networks. We will implement a few of the most commonly used update rules and compare them to vanilla SGD."
   ]
  },
  {
   "cell_type": "markdown",
   "metadata": {},
   "source": [
    "# SGD+Momentum\n",
    "Stochastic gradient descent with momentum is a widely used update rule that tends to make deep networks converge faster than vanilla stochastic gradient descent. See the Momentum Update section at http://cs231n.github.io/neural-networks-3/#sgd for more information.\n",
    "\n",
    "Open the file `comp411/optim.py` and read the documentation at the top of the file to make sure you understand the API. Implement the SGD+momentum update rule in the function `sgd_momentum` and run the following to check your implementation. You should see errors less than e-8."
   ]
  },
  {
   "cell_type": "code",
   "execution_count": 18,
   "metadata": {
    "pycharm": {
     "is_executing": false
    }
   },
   "outputs": [
    {
     "name": "stdout",
     "output_type": "stream",
     "text": [
      "next_w error:  8.882347033505819e-09\n",
      "velocity error:  4.269287743278663e-09\n"
     ]
    }
   ],
   "source": [
    "from comp411.optim import sgd_momentum\n",
    "\n",
    "N, D = 4, 5\n",
    "w = np.linspace(-0.4, 0.6, num=N*D).reshape(N, D)\n",
    "dw = np.linspace(-0.6, 0.4, num=N*D).reshape(N, D)\n",
    "v = np.linspace(0.6, 0.9, num=N*D).reshape(N, D)\n",
    "\n",
    "config = {'learning_rate': 1e-3, 'velocity': v}\n",
    "next_w, _ = sgd_momentum(w, dw, config=config)\n",
    "\n",
    "expected_next_w = np.asarray([\n",
    "  [ 0.1406,      0.20738947,  0.27417895,  0.34096842,  0.40775789],\n",
    "  [ 0.47454737,  0.54133684,  0.60812632,  0.67491579,  0.74170526],\n",
    "  [ 0.80849474,  0.87528421,  0.94207368,  1.00886316,  1.07565263],\n",
    "  [ 1.14244211,  1.20923158,  1.27602105,  1.34281053,  1.4096    ]])\n",
    "expected_velocity = np.asarray([\n",
    "  [ 0.5406,      0.55475789,  0.56891579, 0.58307368,  0.59723158],\n",
    "  [ 0.61138947,  0.62554737,  0.63970526,  0.65386316,  0.66802105],\n",
    "  [ 0.68217895,  0.69633684,  0.71049474,  0.72465263,  0.73881053],\n",
    "  [ 0.75296842,  0.76712632,  0.78128421,  0.79544211,  0.8096    ]])\n",
    "# Should see relative errors around e-8 or less\n",
    "print('next_w error: ', rel_error(next_w, expected_next_w))\n",
    "print('velocity error: ', rel_error(expected_velocity, config['velocity']))"
   ]
  },
  {
   "cell_type": "markdown",
   "metadata": {},
   "source": [
    "# SGD+NesterovMomentum\n",
    "Stochastic gradient descent with Nesterov momentum is an optimized version of the SGD with plain momentum.\n",
    "See the Nesterov Momentum section at http://cs231n.github.io/neural-networks-3/#sgd for more information.\n",
    "\n",
    "Implement the SGD+Nesterov momentum update rule in the function `sgd_nesterov_momentum` and run the following to check your implementation. \n",
    "You should see errors less than e-8."
   ]
  },
  {
   "cell_type": "code",
   "execution_count": 19,
   "metadata": {
    "pycharm": {
     "is_executing": false,
     "name": "#%%\n"
    }
   },
   "outputs": [
    {
     "name": "stdout",
     "output_type": "stream",
     "text": [
      "next_w error:  1.0875187099974104e-08\n",
      "velocity error:  4.269287743278663e-09\n"
     ]
    }
   ],
   "source": [
    "from comp411.optim import sgd_nesterov_momentum\n",
    "\n",
    "N, D = 4, 5\n",
    "w = np.linspace(-0.4, 0.6, num=N*D).reshape(N, D)\n",
    "dw = np.linspace(-0.6, 0.4, num=N*D).reshape(N, D)\n",
    "v = np.linspace(0.6, 0.9, num=N*D).reshape(N, D)\n",
    "\n",
    "config = {'learning_rate': 1e-3, 'velocity': v}\n",
    "next_w, _ = sgd_nesterov_momentum(w, dw, config=config)\n",
    "\n",
    "expected_next_w = np.asarray([\n",
    "    [0.08714   , 0.15246105, 0.21778211, 0.28310316, 0.34842421],\n",
    "    [0.41374526, 0.47906632, 0.54438737, 0.60970842, 0.67502947],\n",
    "    [0.74035053, 0.80567158, 0.87099263, 0.93631368, 1.00163474],\n",
    "    [1.06695579, 1.13227684, 1.19759789, 1.26291895, 1.32824   ]])\n",
    "expected_velocity = np.asarray([\n",
    "  [ 0.5406,      0.55475789,  0.56891579, 0.58307368,  0.59723158],\n",
    "  [ 0.61138947,  0.62554737,  0.63970526,  0.65386316,  0.66802105],\n",
    "  [ 0.68217895,  0.69633684,  0.71049474,  0.72465263,  0.73881053],\n",
    "  [ 0.75296842,  0.76712632,  0.78128421,  0.79544211,  0.8096    ]])\n",
    "\n",
    "# Should see relative errors around e-8 or less\n",
    "print('next_w error: ', rel_error(next_w, expected_next_w))\n",
    "print('velocity error: ', rel_error(expected_velocity, config['velocity']))"
   ]
  },
  {
   "cell_type": "markdown",
   "metadata": {},
   "source": [
    "Once you have done so, run the following to train a six-layer network with SGD, SGD+momentum, and SGD+Nesterov momentum.\n",
    "You should see the SGD+momentum and SGD+Nesterov update rules converge faster than plain SGD."
   ]
  },
  {
   "cell_type": "code",
   "execution_count": 20,
   "metadata": {
    "pycharm": {
     "is_executing": false
    }
   },
   "outputs": [
    {
     "name": "stdout",
     "output_type": "stream",
     "text": [
      "running with  sgd\n",
      "(Iteration 1 / 200) loss: 2.722720\n",
      "(Epoch 0 / 5) train acc: 0.128000; val_acc: 0.114000\n",
      "(Iteration 11 / 200) loss: 2.203692\n",
      "(Iteration 21 / 200) loss: 2.278071\n",
      "(Iteration 31 / 200) loss: 2.185733\n",
      "(Epoch 1 / 5) train acc: 0.235000; val_acc: 0.219000\n",
      "(Iteration 41 / 200) loss: 2.056199\n",
      "(Iteration 51 / 200) loss: 2.066212\n",
      "(Iteration 61 / 200) loss: 2.064161\n",
      "(Iteration 71 / 200) loss: 2.078583\n",
      "(Epoch 2 / 5) train acc: 0.283000; val_acc: 0.247000\n",
      "(Iteration 81 / 200) loss: 2.101538\n",
      "(Iteration 91 / 200) loss: 2.110921\n",
      "(Iteration 101 / 200) loss: 1.882139\n",
      "(Iteration 111 / 200) loss: 1.827622\n",
      "(Epoch 3 / 5) train acc: 0.347000; val_acc: 0.289000\n",
      "(Iteration 121 / 200) loss: 1.866440\n",
      "(Iteration 131 / 200) loss: 1.749960\n",
      "(Iteration 141 / 200) loss: 1.832966\n",
      "(Iteration 151 / 200) loss: 1.874711\n",
      "(Epoch 4 / 5) train acc: 0.374000; val_acc: 0.311000\n",
      "(Iteration 161 / 200) loss: 1.753155\n",
      "(Iteration 171 / 200) loss: 1.631437\n",
      "(Iteration 181 / 200) loss: 1.795412\n",
      "(Iteration 191 / 200) loss: 1.702444\n",
      "(Epoch 5 / 5) train acc: 0.396000; val_acc: 0.305000\n",
      "\n",
      "running with  sgd_momentum\n",
      "(Iteration 1 / 200) loss: 2.443337\n",
      "(Epoch 0 / 5) train acc: 0.112000; val_acc: 0.118000\n",
      "(Iteration 11 / 200) loss: 2.130532\n",
      "(Iteration 21 / 200) loss: 1.973994\n",
      "(Iteration 31 / 200) loss: 1.910120\n",
      "(Epoch 1 / 5) train acc: 0.305000; val_acc: 0.302000\n",
      "(Iteration 41 / 200) loss: 2.014925\n",
      "(Iteration 51 / 200) loss: 1.788192\n",
      "(Iteration 61 / 200) loss: 1.801224\n",
      "(Iteration 71 / 200) loss: 1.675239\n",
      "(Epoch 2 / 5) train acc: 0.414000; val_acc: 0.339000\n",
      "(Iteration 81 / 200) loss: 1.723026\n",
      "(Iteration 91 / 200) loss: 1.616761\n",
      "(Iteration 101 / 200) loss: 1.706946\n",
      "(Iteration 111 / 200) loss: 1.698781\n",
      "(Epoch 3 / 5) train acc: 0.443000; val_acc: 0.350000\n",
      "(Iteration 121 / 200) loss: 1.661952\n",
      "(Iteration 131 / 200) loss: 1.508904\n",
      "(Iteration 141 / 200) loss: 1.354351\n",
      "(Iteration 151 / 200) loss: 1.585169\n",
      "(Epoch 4 / 5) train acc: 0.468000; val_acc: 0.346000\n",
      "(Iteration 161 / 200) loss: 1.364443\n",
      "(Iteration 171 / 200) loss: 1.266809\n",
      "(Iteration 181 / 200) loss: 1.441952\n",
      "(Iteration 191 / 200) loss: 1.178836\n",
      "(Epoch 5 / 5) train acc: 0.548000; val_acc: 0.351000\n",
      "\n",
      "running with  sgd_nesterov_momentum\n",
      "(Iteration 1 / 200) loss: 2.404544\n",
      "(Epoch 0 / 5) train acc: 0.112000; val_acc: 0.100000\n",
      "(Iteration 11 / 200) loss: 2.139783\n",
      "(Iteration 21 / 200) loss: 1.953587\n",
      "(Iteration 31 / 200) loss: 1.864063\n",
      "(Epoch 1 / 5) train acc: 0.327000; val_acc: 0.259000\n",
      "(Iteration 41 / 200) loss: 1.758794\n",
      "(Iteration 51 / 200) loss: 1.761140\n",
      "(Iteration 61 / 200) loss: 1.703899\n",
      "(Iteration 71 / 200) loss: 1.545295\n",
      "(Epoch 2 / 5) train acc: 0.474000; val_acc: 0.341000\n",
      "(Iteration 81 / 200) loss: 1.554745\n",
      "(Iteration 91 / 200) loss: 1.515708\n",
      "(Iteration 101 / 200) loss: 1.605516\n",
      "(Iteration 111 / 200) loss: 1.399231\n",
      "(Epoch 3 / 5) train acc: 0.486000; val_acc: 0.367000\n",
      "(Iteration 121 / 200) loss: 1.324131\n",
      "(Iteration 131 / 200) loss: 1.532454\n",
      "(Iteration 141 / 200) loss: 1.383368\n",
      "(Iteration 151 / 200) loss: 1.362982\n",
      "(Epoch 4 / 5) train acc: 0.536000; val_acc: 0.383000\n",
      "(Iteration 161 / 200) loss: 1.361996\n",
      "(Iteration 171 / 200) loss: 1.251464\n",
      "(Iteration 181 / 200) loss: 0.936809\n",
      "(Iteration 191 / 200) loss: 1.150540\n",
      "(Epoch 5 / 5) train acc: 0.625000; val_acc: 0.383000\n",
      "\n"
     ]
    },
    {
     "data": {
      "image/png": "[encoded data removed]",
      "text/plain": [
       "<Figure size 1080x1080 with 3 Axes>"
      ]
     },
     "metadata": {
      "needs_background": "light"
     },
     "output_type": "display_data"
    }
   ],
   "source": [
    "num_train = 4000\n",
    "small_data = {\n",
    "  'X_train': data['X_train'][:num_train],\n",
    "  'y_train': data['y_train'][:num_train],\n",
    "  'X_val': data['X_val'],\n",
    "  'y_val': data['y_val'],\n",
    "}\n",
    "\n",
    "solvers = {}\n",
    "\n",
    "for update_rule in ['sgd', 'sgd_momentum', 'sgd_nesterov_momentum']:\n",
    "  print('running with ', update_rule)\n",
    "  model = FullyConnectedNet([100, 100, 100, 100, 100], weight_scale=5e-2)\n",
    "\n",
    "  solver = Solver(model, small_data,\n",
    "                  num_epochs=5, batch_size=100,\n",
    "                  update_rule=update_rule,\n",
    "                  optim_config={\n",
    "                    'learning_rate': 5e-3,\n",
    "                  },\n",
    "                  verbose=True)\n",
    "  solvers[update_rule] = solver\n",
    "  solver.train()\n",
    "  print()\n",
    "\n",
    "plt.subplot(3, 1, 1)\n",
    "plt.title('Training loss')\n",
    "plt.xlabel('Iteration')\n",
    "\n",
    "plt.subplot(3, 1, 2)\n",
    "plt.title('Training accuracy')\n",
    "plt.xlabel('Epoch')\n",
    "\n",
    "plt.subplot(3, 1, 3)\n",
    "plt.title('Validation accuracy')\n",
    "plt.xlabel('Epoch')\n",
    "\n",
    "for update_rule, solver in solvers.items():\n",
    "  plt.subplot(3, 1, 1)\n",
    "  plt.plot(solver.loss_history, 'o', label=\"loss_%s\" % update_rule)\n",
    "  \n",
    "  plt.subplot(3, 1, 2)\n",
    "  plt.plot(solver.train_acc_history, '-o', label=\"train_acc_%s\" % update_rule)\n",
    "\n",
    "  plt.subplot(3, 1, 3)\n",
    "  plt.plot(solver.val_acc_history, '-o', label=\"val_acc_%s\" % update_rule)\n",
    "  \n",
    "for i in [1, 2, 3]:\n",
    "  plt.subplot(3, 1, i)\n",
    "  plt.legend(loc='upper center', ncol=4)\n",
    "plt.gcf().set_size_inches(15, 15)\n",
    "plt.show()"
   ]
  },
  {
   "cell_type": "markdown",
   "metadata": {},
   "source": [
    "# RMSProp and Adam\n",
    "RMSProp [1] and Adam [2] are update rules that set per-parameter learning rates by using a running average of the second moments of gradients.\n",
    "\n",
    "In the file `comp411/optim.py`, implement the RMSProp update rule in the `rmsprop` function and implement the Adam update rule in the `adam` function, and check your implementations using the tests below.\n",
    "\n",
    "**NOTE:** Please implement the _complete_ Adam update rule (with the bias correction mechanism)\n",
    "\n",
    "[1] Tijmen Tieleman and Geoffrey Hinton. \"Lecture 6.5-rmsprop: Divide the gradient by a running average of its recent magnitude.\" COURSERA: Neural Networks for Machine Learning 4 (2012).\n",
    "    <br>RMSProp update formula: http://www.cs.toronto.edu/~tijmen/csc321/slides/lecture_slides_lec6.pdf\n",
    "\n",
    "[2] Diederik Kingma and Jimmy Ba, \"Adam: A Method for Stochastic Optimization\", ICLR 2015.\n",
    "    <br>Adam update formula: http://ruder.io/optimizing-gradient-descent/index.html#adam"
   ]
  },
  {
   "cell_type": "code",
   "execution_count": 21,
   "metadata": {
    "pycharm": {
     "is_executing": false
    }
   },
   "outputs": [
    {
     "name": "stdout",
     "output_type": "stream",
     "text": [
      "RMSProp test\n",
      "next_w error:  9.524687511038133e-08\n",
      "cache error:  0.0050222328351962305\n"
     ]
    }
   ],
   "source": [
    "# Test RMSProp implementation\n",
    "from comp411.optim import rmsprop\n",
    "\n",
    "N, D = 4, 5\n",
    "w = np.linspace(-0.4, 0.6, num=N*D).reshape(N, D)\n",
    "dw = np.linspace(-0.6, 0.4, num=N*D).reshape(N, D)\n",
    "cache = np.linspace(0.6, 0.9, num=N*D).reshape(N, D)\n",
    "\n",
    "config = {'learning_rate': 1e-2, 'cache': cache}\n",
    "next_w, _ = rmsprop(w, dw, config=config)\n",
    "\n",
    "expected_next_w = np.asarray([\n",
    "  [-0.39223849, -0.34037513, -0.28849239, -0.23659121, -0.18467247],\n",
    "  [-0.132737,   -0.08078555, -0.02881884,  0.02316247,  0.07515774],\n",
    "  [ 0.12716641,  0.17918792,  0.23122175,  0.28326742,  0.33532447],\n",
    "  [ 0.38739248,  0.43947102,  0.49155973,  0.54365823,  0.59576619]])\n",
    "expected_cache = np.asarray([\n",
    "  [ 0.5976,      0.6126277,   0.6277108,   0.64284931,  0.65804321],\n",
    "  [ 0.67329252,  0.68859723,  0.70395734,  0.71937285,  0.73484377],\n",
    "  [ 0.75037008,  0.7659518,   0.78158892,  0.79728144,  0.81302936],\n",
    "  [ 0.82883269,  0.84469141,  0.86060554,  0.87657507,  0.8926    ]])\n",
    "\n",
    "# You should see relative errors around e-7 or less\n",
    "print(\"RMSProp test\")\n",
    "print('next_w error: ', rel_error(expected_next_w, next_w))\n",
    "print('cache error: ', rel_error(expected_cache, config['cache']))"
   ]
  },
  {
   "cell_type": "code",
   "execution_count": 22,
   "metadata": {},
   "outputs": [
    {
     "name": "stdout",
     "output_type": "stream",
     "text": [
      "Adam test\n",
      "next_w error:  0.0015218451757856217\n",
      "v error:  4.208314038113071e-09\n",
      "m error:  4.214963193114416e-09\n"
     ]
    }
   ],
   "source": [
    "# Test Adam implementation\n",
    "from comp411.optim import adam\n",
    "\n",
    "N, D = 4, 5\n",
    "w = np.linspace(-0.4, 0.6, num=N*D).reshape(N, D)\n",
    "dw = np.linspace(-0.6, 0.4, num=N*D).reshape(N, D)\n",
    "m = np.linspace(0.6, 0.9, num=N*D).reshape(N, D)\n",
    "v = np.linspace(0.7, 0.5, num=N*D).reshape(N, D)\n",
    "\n",
    "config = {'learning_rate': 1e-2, 'm': m, 'v': v, 't': 5}\n",
    "next_w, _ = adam(w, dw, config=config)\n",
    "\n",
    "expected_next_w = np.asarray([\n",
    "  [-0.40094747, -0.34836187, -0.29577703, -0.24319299, -0.19060977],\n",
    "  [-0.1380274,  -0.08544591, -0.03286534,  0.01971428,  0.0722929],\n",
    "  [ 0.1248705,   0.17744702,  0.23002243,  0.28259667,  0.33516969],\n",
    "  [ 0.38774145,  0.44031188,  0.49288093,  0.54544852,  0.59801459]])\n",
    "expected_v = np.asarray([\n",
    "  [ 0.69966,     0.68908382,  0.67851319,  0.66794809,  0.65738853,],\n",
    "  [ 0.64683452,  0.63628604,  0.6257431,   0.61520571,  0.60467385,],\n",
    "  [ 0.59414753,  0.58362676,  0.57311152,  0.56260183,  0.55209767,],\n",
    "  [ 0.54159906,  0.53110598,  0.52061845,  0.51013645,  0.49966,   ]])\n",
    "expected_m = np.asarray([\n",
    "  [ 0.48,        0.49947368,  0.51894737,  0.53842105,  0.55789474],\n",
    "  [ 0.57736842,  0.59684211,  0.61631579,  0.63578947,  0.65526316],\n",
    "  [ 0.67473684,  0.69421053,  0.71368421,  0.73315789,  0.75263158],\n",
    "  [ 0.77210526,  0.79157895,  0.81105263,  0.83052632,  0.85      ]])\n",
    "\n",
    "# You should see relative errors around e-7 or less\n",
    "print(\"Adam test\")\n",
    "print('next_w error: ', rel_error(expected_next_w, next_w))\n",
    "print('v error: ', rel_error(expected_v, config['v']))\n",
    "print('m error: ', rel_error(expected_m, config['m']))"
   ]
  },
  {
   "cell_type": "markdown",
   "metadata": {},
   "source": [
    "Once you have debugged your RMSProp and Adam implementations, run the following to train a pair of deep networks using these new update rules:"
   ]
  },
  {
   "cell_type": "code",
   "execution_count": 23,
   "metadata": {
    "pycharm": {
     "is_executing": false
    }
   },
   "outputs": [
    {
     "name": "stdout",
     "output_type": "stream",
     "text": [
      "running with  adam\n",
      "(Iteration 1 / 200) loss: 2.601395\n",
      "(Epoch 0 / 5) train acc: 0.159000; val_acc: 0.136000\n",
      "(Iteration 11 / 200) loss: 2.247905\n",
      "(Iteration 21 / 200) loss: 1.952080\n",
      "(Iteration 31 / 200) loss: 1.867022\n",
      "(Epoch 1 / 5) train acc: 0.352000; val_acc: 0.314000\n",
      "(Iteration 41 / 200) loss: 1.850083\n",
      "(Iteration 51 / 200) loss: 1.726367\n",
      "(Iteration 61 / 200) loss: 1.698784\n",
      "(Iteration 71 / 200) loss: 1.605373\n",
      "(Epoch 2 / 5) train acc: 0.468000; val_acc: 0.381000\n",
      "(Iteration 81 / 200) loss: 1.706834\n",
      "(Iteration 91 / 200) loss: 1.643955\n",
      "(Iteration 101 / 200) loss: 1.629005\n",
      "(Iteration 111 / 200) loss: 1.358041\n",
      "(Epoch 3 / 5) train acc: 0.514000; val_acc: 0.351000\n",
      "(Iteration 121 / 200) loss: 1.471987\n",
      "(Iteration 131 / 200) loss: 1.646933\n",
      "(Iteration 141 / 200) loss: 1.551749\n",
      "(Iteration 151 / 200) loss: 1.294085\n",
      "(Epoch 4 / 5) train acc: 0.553000; val_acc: 0.380000\n",
      "(Iteration 161 / 200) loss: 1.232831\n",
      "(Iteration 171 / 200) loss: 1.262722\n",
      "(Iteration 181 / 200) loss: 1.323073\n",
      "(Iteration 191 / 200) loss: 1.284291\n",
      "(Epoch 5 / 5) train acc: 0.601000; val_acc: 0.407000\n",
      "\n",
      "running with  rmsprop\n",
      "(Iteration 1 / 200) loss: 2.478490\n",
      "(Epoch 0 / 5) train acc: 0.152000; val_acc: 0.127000\n",
      "(Iteration 11 / 200) loss: 2.194397\n",
      "(Iteration 21 / 200) loss: 2.058080\n",
      "(Iteration 31 / 200) loss: 1.828149\n",
      "(Epoch 1 / 5) train acc: 0.354000; val_acc: 0.290000\n",
      "(Iteration 41 / 200) loss: 1.935536\n",
      "(Iteration 51 / 200) loss: 1.976203\n",
      "(Iteration 61 / 200) loss: 1.960759\n",
      "(Iteration 71 / 200) loss: 1.734944\n",
      "(Epoch 2 / 5) train acc: 0.390000; val_acc: 0.338000\n",
      "(Iteration 81 / 200) loss: 1.727798\n",
      "(Iteration 91 / 200) loss: 1.724856\n",
      "(Iteration 101 / 200) loss: 1.626579\n",
      "(Iteration 111 / 200) loss: 1.614190\n",
      "(Epoch 3 / 5) train acc: 0.477000; val_acc: 0.347000\n",
      "(Iteration 121 / 200) loss: 1.462302\n",
      "(Iteration 131 / 200) loss: 1.353364\n",
      "(Iteration 141 / 200) loss: 1.467516\n",
      "(Iteration 151 / 200) loss: 1.616483\n",
      "(Epoch 4 / 5) train acc: 0.489000; val_acc: 0.364000\n",
      "(Iteration 161 / 200) loss: 1.354151\n",
      "(Iteration 171 / 200) loss: 1.196696\n",
      "(Iteration 181 / 200) loss: 1.323859\n",
      "(Iteration 191 / 200) loss: 1.359615\n",
      "(Epoch 5 / 5) train acc: 0.545000; val_acc: 0.370000\n",
      "\n"
     ]
    },
    {
     "data": {
      "image/png": "[encoded data removed]",
      "text/plain": [
       "<Figure size 1080x1080 with 3 Axes>"
      ]
     },
     "metadata": {
      "needs_background": "light"
     },
     "output_type": "display_data"
    }
   ],
   "source": [
    "learning_rates = {'rmsprop': 1e-4, 'adam': 1e-3}\n",
    "for update_rule in ['adam', 'rmsprop']:\n",
    "  print('running with ', update_rule)\n",
    "  model = FullyConnectedNet([100, 100, 100, 100, 100], weight_scale=5e-2)\n",
    "\n",
    "  solver = Solver(model, small_data,\n",
    "                  num_epochs=5, batch_size=100,\n",
    "                  update_rule=update_rule,\n",
    "                  optim_config={\n",
    "                    'learning_rate': learning_rates[update_rule]\n",
    "                  },\n",
    "                  verbose=True)\n",
    "  solvers[update_rule] = solver\n",
    "  solver.train()\n",
    "  print()\n",
    "\n",
    "plt.subplot(3, 1, 1)\n",
    "plt.title('Training loss')\n",
    "plt.xlabel('Iteration')\n",
    "\n",
    "plt.subplot(3, 1, 2)\n",
    "plt.title('Training accuracy')\n",
    "plt.xlabel('Epoch')\n",
    "\n",
    "plt.subplot(3, 1, 3)\n",
    "plt.title('Validation accuracy')\n",
    "plt.xlabel('Epoch')\n",
    "\n",
    "for update_rule, solver in list(solvers.items()):\n",
    "  plt.subplot(3, 1, 1)\n",
    "  plt.plot(solver.loss_history, 'o', label=update_rule)\n",
    "  \n",
    "  plt.subplot(3, 1, 2)\n",
    "  plt.plot(solver.train_acc_history, '-o', label=update_rule)\n",
    "\n",
    "  plt.subplot(3, 1, 3)\n",
    "  plt.plot(solver.val_acc_history, '-o', label=update_rule)\n",
    "  \n",
    "for i in [1, 2, 3]:\n",
    "  plt.subplot(3, 1, i)\n",
    "  plt.legend(loc='upper center', ncol=4)\n",
    "plt.gcf().set_size_inches(15, 15)\n",
    "plt.show()"
   ]
  },
  {
   "cell_type": "markdown",
   "metadata": {},
   "source": [
    "# Train a good model!\n",
    "Train the best fully-connected model that you can on CIFAR-10, storing your best model in the `best_model` variable. We require you to get at least 50% accuracy on the validation set using a fully-connected net.\n",
    "\n",
    "If you are careful it should be possible to get accuracies above 55%, but we don't require it for this part and won't assign extra credit for doing so. Later in the assignment we will ask you to train the best convolutional network that you can on CIFAR-10, and we would prefer that you spend your effort working on convolutional nets rather than fully-connected nets.\n",
    "\n",
    "You might find it useful to complete the `Dropout.ipynb` notebook before completing this part, since this technique can \n",
    "help you train powerful models."
   ]
  },
  {
   "cell_type": "code",
   "execution_count": null,
   "metadata": {
    "pycharm": {
     "is_executing": false
    }
   },
   "outputs": [
    {
     "name": "stdout",
     "output_type": "stream",
     "text": [
      "learning_rate 4.000000e-02, reg 7.000000e-05,  Accuracy: 0.298000  sizes  [3072, 250, 200, 150, 10]\n",
      "learning_rate 4.000000e-02, reg 7.000000e-05,  Accuracy: 0.531000  sizes  [3072, 3072, 250, 200, 150, 10, 10]\n",
      "learning_rate 4.000000e-02, reg 7.000000e-05,  Accuracy: 0.446000  sizes  [3072, 150, 100, 10]\n",
      "learning_rate 4.000000e-02, reg 7.000000e-05,  Accuracy: 0.542000  sizes  [3072, 3072, 150, 100, 10, 10]\n"
     ]
    }
   ],
   "source": [
    "CIFAR_10_data = {\n",
    "  'X_train': data['X_train'],\n",
    "  'y_train': data['y_train'],\n",
    "  'X_val': data['X_val'],\n",
    "  'y_val': data['y_val'],\n",
    "}\n",
    "learning_rate = None\n",
    "weight_scale = None\n",
    "best_model = None\n",
    "solver = None\n",
    "\n",
    "################################################################################\n",
    "# TODO: Train the best FullyConnectedNet that you can on CIFAR-10. You might   #\n",
    "# find dropout useful. Store your best model in the best_model variable. #\n",
    "#\n",
    "################################################################################\n",
    "# *****START OF YOUR CODE (DO NOT DELETE/MODIFY THIS LINE)*****\n",
    "\n",
    "l_rates = [4e-02, 8e-03]\n",
    "weight_scale = 1e-02\n",
    "regularizations = [ 7e-05, 5e-06]\n",
    "layer_sizes = [[250, 200, 150], [150, 100]]\n",
    "best_val = -1\n",
    "update_rules = ['adam', 'sgd_nesterov_momentum']\n",
    "grid_search = [(lr, reg, ls, up) for lr in l_rates for reg in regularizations for ls in layer_sizes for up in update_rules]\n",
    "for lr, reg, ls, up in grid_search:\n",
    "  \n",
    "    model = FullyConnectedNet(ls, weight_scale=weight_scale, reg= reg)\n",
    "\n",
    "    solver = Solver(model, CIFAR_10_data,\n",
    "                    num_epochs=15, batch_size=256,\n",
    "                    update_rule=up,\n",
    "                    optim_config={\n",
    "                      'learning_rate': lr\n",
    "                    },\n",
    "                    verbose=False)\n",
    "    solver.train()\n",
    "    val_accuracy = solver.best_val_acc\n",
    "    if best_val < val_accuracy:\n",
    "        best_val = val_accuracy\n",
    "        best_model = model\n",
    "        learning_rate = lr\n",
    "    print('learning_rate %e, reg %e,  Accuracy: %f' % (\n",
    "                lr, reg, val_accuracy), \" sizes \", ls)\n",
    "print('best validation accuracy achieved: %f' % best_val)\n",
    "\n",
    "# *****END OF YOUR CODE (DO NOT DELETE/MODIFY THIS LINE)*****\n",
    "################################################################################\n",
    "#                              END OF YOUR CODE                                #\n",
    "################################################################################"
   ]
  },
  {
   "cell_type": "markdown",
   "metadata": {},
   "source": [
    "# Test your model!\n",
    "Run your best model on the validation and test sets. You should achieve above 50% accuracy on the validation set."
   ]
  },
  {
   "cell_type": "code",
   "execution_count": null,
   "metadata": {
    "pycharm": {
     "is_executing": false
    }
   },
   "outputs": [],
   "source": [
    "y_test_pred = np.argmax(best_model.loss(data['X_test']), axis=1)\n",
    "y_val_pred = np.argmax(best_model.loss(data['X_val']), axis=1)\n",
    "print('Validation set accuracy: ', (y_val_pred == data['y_val']).mean())\n",
    "print('Test set accuracy: ', (y_test_pred == data['y_test']).mean())"
   ]
  },
  {
   "cell_type": "code",
   "execution_count": null,
   "metadata": {},
   "outputs": [],
   "source": []
  }
 ],
 "metadata": {
  "@webio": {
   "lastCommId": "a88d0af6bd114d77a0c44deb872e1849",
   "lastKernelId": "320b6a10-0100-469e-a8c0-0cf1bb1d2d1a"
  },
  "kernelspec": {
   "display_name": "Python 3 (ipykernel)",
   "language": "python",
   "name": "python3"
  },
  "language_info": {
   "codemirror_mode": {
    "name": "ipython",
    "version": 3
   },
   "file_extension": ".py",
   "mimetype": "text/x-python",
   "name": "python",
   "nbconvert_exporter": "python",
   "pygments_lexer": "ipython3",
   "version": "3.7.11"
  },
  "pycharm": {
   "stem_cell": {
    "cell_type": "raw",
    "metadata": {
     "collapsed": false
    },
    "source": []
   }
  }
 },
 "nbformat": 4,
 "nbformat_minor": 4
}
